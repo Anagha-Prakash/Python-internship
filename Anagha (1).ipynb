{
  "cells": [
    {
      "cell_type": "code",
      "execution_count": null,
      "metadata": {
        "colab": {
          "base_uri": "https://localhost:8080/"
        },
        "id": "v4gRerzsvNiL",
        "outputId": "9d8b80ab-7d73-4c51-908f-ed99f4039b74"
      },
      "outputs": [
        {
          "data": {
            "text/plain": [
              "tuple"
            ]
          },
          "execution_count": 1,
          "metadata": {},
          "output_type": "execute_result"
        }
      ],
      "source": [
        "tuple=(tuple,set,dict,list)\n",
        "type(tuple)"
      ]
    },
    {
      "cell_type": "code",
      "execution_count": null,
      "metadata": {
        "colab": {
          "base_uri": "https://localhost:8080/"
        },
        "id": "pb4NsZyGvWH6",
        "outputId": "49af995c-23fe-40ed-e0d6-022315aa4d28"
      },
      "outputs": [
        {
          "data": {
            "text/plain": [
              "list"
            ]
          },
          "execution_count": 2,
          "metadata": {},
          "output_type": "execute_result"
        }
      ],
      "source": [
        "#List\n",
        "type([1,2,3,4,5,7])"
      ]
    },
    {
      "cell_type": "code",
      "execution_count": null,
      "metadata": {
        "colab": {
          "base_uri": "https://localhost:8080/"
        },
        "id": "r2ftxH5kvY6l",
        "outputId": "cbd8d5f4-d669-41a2-c31e-d506d387dcee"
      },
      "outputs": [
        {
          "data": {
            "text/plain": [
              "tuple"
            ]
          },
          "execution_count": 26,
          "metadata": {},
          "output_type": "execute_result"
        }
      ],
      "source": [
        "#tuple\n",
        "type((1,2,3,4,5,6,7))"
      ]
    },
    {
      "cell_type": "code",
      "execution_count": null,
      "metadata": {
        "colab": {
          "base_uri": "https://localhost:8080/"
        },
        "id": "Nkdnl-meveDo",
        "outputId": "bf34c376-73b5-4481-9505-a4b8c49f0137"
      },
      "outputs": [
        {
          "data": {
            "text/plain": [
              "{'Name': 'Anagha', 'Roll_no': 1, 'age': 23}"
            ]
          },
          "execution_count": 3,
          "metadata": {},
          "output_type": "execute_result"
        }
      ],
      "source": [
        "#Dictionary\n",
        "{'Name':'Anagha', 'Roll_no':1, 'age':23}"
      ]
    },
    {
      "cell_type": "code",
      "execution_count": null,
      "metadata": {
        "colab": {
          "base_uri": "https://localhost:8080/"
        },
        "id": "53Fkw4fvvrln",
        "outputId": "b214a454-1721-4f88-c02d-74e2f9d2f74c"
      },
      "outputs": [
        {
          "name": "stdout",
          "output_type": "stream",
          "text": [
            "{'Name': 'Anagha', 'College': 'Bmsit', 'age': 22, 'Course': 'MCA'}\n"
          ]
        }
      ],
      "source": [
        "#to do\n",
        "#make a dictionary add own data\n",
        "dict={'Name':'Anagha','College':'Bmsit', 'age':22, 'Course':'MCA'}\n",
        "print(dict)\n"
      ]
    },
    {
      "cell_type": "code",
      "execution_count": null,
      "metadata": {
        "colab": {
          "base_uri": "https://localhost:8080/"
        },
        "id": "DVV50I9Xwfi1",
        "outputId": "70120c6f-a828-4ecd-b795-9a1b7b5262a7"
      },
      "outputs": [
        {
          "name": "stdout",
          "output_type": "stream",
          "text": [
            "Hello world\n"
          ]
        }
      ],
      "source": [
        "#Print function\n",
        "print('Hello world')"
      ]
    },
    {
      "cell_type": "code",
      "execution_count": null,
      "metadata": {
        "colab": {
          "base_uri": "https://localhost:8080/"
        },
        "id": "8bSYsoovwjEF",
        "outputId": "d12c3e32-a52e-4192-8e39-6edeee674618"
      },
      "outputs": [
        {
          "output_type": "stream",
          "name": "stdout",
          "text": [
            "I am Anagha from BMSIT, pursuing my MCA in 4th sem..Doing my intership on data science in DLithe.\n"
          ]
        }
      ],
      "source": [
        "#You have to print the type of the data and store it\n",
        "str=\"I am Anagha from BMSIT, pursuing my MCA in 4th sem..Doing my intership on data science in DLithe.\"\n",
        "print(str)"
      ]
    },
    {
      "cell_type": "code",
      "execution_count": null,
      "metadata": {
        "colab": {
          "base_uri": "https://localhost:8080/",
          "height": 35
        },
        "id": "abUEKLzswvE1",
        "outputId": "dccff8e6-c429-4456-a403-df29e20d64e2"
      },
      "outputs": [
        {
          "data": {
            "application/vnd.google.colaboratory.intrinsic+json": {
              "type": "string"
            },
            "text/plain": [
              "'hello world Im Anagha'"
            ]
          },
          "execution_count": 6,
          "metadata": {},
          "output_type": "execute_result"
        }
      ],
      "source": [
        "#Variables and identifiers\n",
        "str1='hello world Im Anagha'\n",
        "str1"
      ]
    },
    {
      "cell_type": "code",
      "execution_count": null,
      "metadata": {
        "colab": {
          "base_uri": "https://localhost:8080/"
        },
        "id": "PbpcP7pHw93D",
        "outputId": "d5788ea2-01ef-491f-abcc-d0700b108b8b"
      },
      "outputs": [
        {
          "data": {
            "text/plain": [
              "68"
            ]
          },
          "execution_count": 8,
          "metadata": {},
          "output_type": "execute_result"
        }
      ],
      "source": [
        "#Data operators\n",
        "34*2"
      ]
    },
    {
      "cell_type": "code",
      "execution_count": null,
      "metadata": {
        "colab": {
          "base_uri": "https://localhost:8080/"
        },
        "id": "Zj029ijzxLpA",
        "outputId": "9581dd04-775b-482e-969e-f46845fb4b0b"
      },
      "outputs": [
        {
          "data": {
            "text/plain": [
              "40"
            ]
          },
          "execution_count": 9,
          "metadata": {},
          "output_type": "execute_result"
        }
      ],
      "source": [
        "a=35\n",
        "b=5\n",
        "# Multiplication *\n",
        "# Division /\n",
        "# Floor division //\n",
        "# Addition +\n",
        "# Substraction -\n",
        "# Exponention **\n",
        "\n",
        "# addition\n",
        "a + b"
      ]
    },
    {
      "cell_type": "code",
      "execution_count": null,
      "metadata": {
        "colab": {
          "base_uri": "https://localhost:8080/"
        },
        "id": "Wfc_i03NxVck",
        "outputId": "64c5c1ee-0eff-4637-8226-9e5bfd80c19d"
      },
      "outputs": [
        {
          "data": {
            "text/plain": [
              "7.0"
            ]
          },
          "execution_count": 10,
          "metadata": {},
          "output_type": "execute_result"
        }
      ],
      "source": [
        "#division\n",
        "a/b"
      ]
    },
    {
      "cell_type": "code",
      "execution_count": null,
      "metadata": {
        "colab": {
          "base_uri": "https://localhost:8080/"
        },
        "id": "g_x83UR-xq9U",
        "outputId": "98005526-7297-438d-f06e-d1e2ceaef236"
      },
      "outputs": [
        {
          "data": {
            "text/plain": [
              "175"
            ]
          },
          "execution_count": 11,
          "metadata": {},
          "output_type": "execute_result"
        }
      ],
      "source": [
        "#multiplication\n",
        "a*b"
      ]
    },
    {
      "cell_type": "code",
      "execution_count": null,
      "metadata": {
        "colab": {
          "base_uri": "https://localhost:8080/"
        },
        "id": "lUkUS8LBxzrn",
        "outputId": "51300b58-ebc5-4b96-b9c0-3db60348e756"
      },
      "outputs": [
        {
          "data": {
            "text/plain": [
              "30"
            ]
          },
          "execution_count": 12,
          "metadata": {},
          "output_type": "execute_result"
        }
      ],
      "source": [
        "#substraction\n",
        "a-b"
      ]
    },
    {
      "cell_type": "code",
      "execution_count": null,
      "metadata": {
        "id": "6TLohXIuxwiM"
      },
      "outputs": [],
      "source": [
        ""
      ]
    },
    {
      "cell_type": "code",
      "execution_count": null,
      "metadata": {
        "colab": {
          "base_uri": "https://localhost:8080/"
        },
        "id": "qxbVo1OAyHrS",
        "outputId": "61bde829-dabd-4f7c-842b-4913d624890b"
      },
      "outputs": [
        {
          "data": {
            "text/plain": [
              "52521875"
            ]
          },
          "execution_count": 16,
          "metadata": {},
          "output_type": "execute_result"
        }
      ],
      "source": [
        "a**b"
      ]
    },
    {
      "cell_type": "code",
      "execution_count": null,
      "metadata": {
        "colab": {
          "base_uri": "https://localhost:8080/"
        },
        "id": "PDwcIv8vyZlB",
        "outputId": "0e2d865a-e27f-42ca-cbdf-db0e0e8e5dfa"
      },
      "outputs": [
        {
          "data": {
            "text/plain": [
              "7"
            ]
          },
          "execution_count": 17,
          "metadata": {},
          "output_type": "execute_result"
        }
      ],
      "source": [
        "a//b"
      ]
    },
    {
      "cell_type": "code",
      "execution_count": null,
      "metadata": {
        "colab": {
          "base_uri": "https://localhost:8080/"
        },
        "id": "7BIS6TRnydFR",
        "outputId": "70c832d6-fddf-425c-c7e5-1a01c5cd1b62"
      },
      "outputs": [
        {
          "data": {
            "text/plain": [
              "False"
            ]
          },
          "execution_count": 18,
          "metadata": {},
          "output_type": "execute_result"
        }
      ],
      "source": [
        "34==24"
      ]
    },
    {
      "cell_type": "code",
      "execution_count": null,
      "metadata": {
        "colab": {
          "base_uri": "https://localhost:8080/"
        },
        "id": "2YM8mZlKyjmP",
        "outputId": "a9fcfaaa-9424-4318-9ff5-6b86aa5ad84c"
      },
      "outputs": [
        {
          "name": "stdout",
          "output_type": "stream",
          "text": [
            "36\n"
          ]
        }
      ],
      "source": [
        "#Assignment opertors\n",
        "x=12\n",
        "x*=3\n",
        "print(x)"
      ]
    },
    {
      "cell_type": "code",
      "execution_count": null,
      "metadata": {
        "colab": {
          "base_uri": "https://localhost:8080/"
        },
        "id": "hXhgn5LUy2PR",
        "outputId": "536e07c9-a0ac-4136-c948-8c72ed8b78dd"
      },
      "outputs": [
        {
          "name": "stdout",
          "output_type": "stream",
          "text": [
            "40\n"
          ]
        }
      ],
      "source": [
        "x+=2\n",
        "print(x)"
      ]
    },
    {
      "cell_type": "markdown",
      "metadata": {
        "id": "m5zrBABwzHMo"
      },
      "source": [
        "**Python logical operators**\n",
        "1. And\n",
        "2. Or\n",
        "3. Not"
      ]
    },
    {
      "cell_type": "code",
      "execution_count": null,
      "metadata": {
        "colab": {
          "base_uri": "https://localhost:8080/"
        },
        "id": "o17NQjk7zZ0H",
        "outputId": "beaf9bd3-4767-4742-f30a-a8ea50667aa5"
      },
      "outputs": [
        {
          "data": {
            "text/plain": [
              "False"
            ]
          },
          "execution_count": 22,
          "metadata": {},
          "output_type": "execute_result"
        }
      ],
      "source": [
        "# and \n",
        "23>45 and 49 == 49"
      ]
    },
    {
      "cell_type": "code",
      "execution_count": null,
      "metadata": {
        "colab": {
          "base_uri": "https://localhost:8080/"
        },
        "id": "LSAGTULGzfvY",
        "outputId": "abdf67f9-c6e4-4ef8-b7fb-52c0272c6d67"
      },
      "outputs": [
        {
          "data": {
            "text/plain": [
              "True"
            ]
          },
          "execution_count": 23,
          "metadata": {},
          "output_type": "execute_result"
        }
      ],
      "source": [
        "#or\n",
        "23>45 or 49 != 49 or 2 == 2"
      ]
    },
    {
      "cell_type": "code",
      "execution_count": null,
      "metadata": {
        "colab": {
          "base_uri": "https://localhost:8080/"
        },
        "id": "-pGWNqS5080Q",
        "outputId": "8344d13d-2aa6-475d-d77c-8b7d5a33aa28"
      },
      "outputs": [
        {
          "data": {
            "text/plain": [
              "False"
            ]
          },
          "execution_count": 24,
          "metadata": {},
          "output_type": "execute_result"
        }
      ],
      "source": [
        "'anagha'=='Anagha'"
      ]
    },
    {
      "cell_type": "code",
      "execution_count": null,
      "metadata": {
        "colab": {
          "base_uri": "https://localhost:8080/"
        },
        "id": "foBXDxoI1GrZ",
        "outputId": "191653f8-ab38-4476-9b1a-c6ef97e9964d"
      },
      "outputs": [
        {
          "data": {
            "text/plain": [
              "True"
            ]
          },
          "execution_count": 25,
          "metadata": {},
          "output_type": "execute_result"
        }
      ],
      "source": [
        "#not operator\n",
        "not('anagha' == 'Anagha')"
      ]
    },
    {
      "cell_type": "markdown",
      "metadata": {
        "id": "5ebXQZFzzQvs"
      },
      "source": [
        "**04-03-2022 Task-2**"
      ]
    },
    {
      "cell_type": "markdown",
      "metadata": {
        "id": "9qfPzrDl03bh"
      },
      "source": [
        "What are sequences in python\n",
        "\n",
        "They are the containers with items that are accessible by indexing or string\n",
        "\n",
        "1.Concatenation 2.Repeatation 3.Membership testing 4.Slicing 5.Indexing"
      ]
    },
    {
      "cell_type": "code",
      "execution_count": null,
      "metadata": {
        "colab": {
          "base_uri": "https://localhost:8080/"
        },
        "id": "YyIQsjXC1PAI",
        "outputId": "1e0e4c2e-779e-4aef-8f43-1a135e3a7037"
      },
      "outputs": [
        {
          "name": "stdout",
          "output_type": "stream",
          "text": [
            "[9, 8, 5, 8, 3, 5]\n"
          ]
        }
      ],
      "source": [
        "#Manipulation of list\n",
        "#To do\n",
        "#You have to make your own list(all items are integers)\n",
        "li = [9,8,5,8,3,5]\n",
        "print(li)\n"
      ]
    },
    {
      "cell_type": "code",
      "execution_count": null,
      "metadata": {
        "colab": {
          "base_uri": "https://localhost:8080/"
        },
        "id": "R1ZgYOOb1pS2",
        "outputId": "1fa670d2-69e4-49f4-a3d8-ca0e1956e42f"
      },
      "outputs": [
        {
          "name": "stdout",
          "output_type": "stream",
          "text": [
            "[1, 4, 8, 3, 9, 5, 2, 7]\n"
          ]
        }
      ],
      "source": [
        "#append\n",
        "li = [1,4,8,3,9,5,2]\n",
        "li.append(7)\n",
        "print(li)"
      ]
    },
    {
      "cell_type": "code",
      "execution_count": null,
      "metadata": {
        "colab": {
          "base_uri": "https://localhost:8080/"
        },
        "id": "eWQZrKYW1sSs",
        "outputId": "fda2316b-9f6e-44a0-9653-d5de14ce3bd2"
      },
      "outputs": [
        {
          "name": "stdout",
          "output_type": "stream",
          "text": [
            "[4, 7, 8, 9, 9]\n"
          ]
        }
      ],
      "source": [
        "#insert\n",
        "li = [4,7,8,9]\n",
        "li.insert(5,9)\n",
        "print(li)"
      ]
    },
    {
      "cell_type": "code",
      "execution_count": null,
      "metadata": {
        "colab": {
          "base_uri": "https://localhost:8080/"
        },
        "id": "z2RLp6Rh1wMd",
        "outputId": "7a562dfd-b9f7-4d02-9c6e-c0f2024bfc2a"
      },
      "outputs": [
        {
          "name": "stdout",
          "output_type": "stream",
          "text": [
            "[1, 3, 4, 5, 6, 7, 8, 9, 37, 10, 11, 23, 67, 89, 23, 12, 78, 90, 22, 67, 88, 89]\n",
            "[1, 3, 12, 4, 5, 6, 7, 8, 9, 37, 10, 11, 23, 67, 89, 23, 12, 78, 90, 22, 67, 88, 89]\n",
            "[1, 3, 12, 4, 5, 6, 7, 8, 9, 37, 10, 11, 23, 67, 89, 23, 12, 78, 90, 22, 67, 88, 89, 5]\n"
          ]
        }
      ],
      "source": [
        "#to do\n",
        "#you have to insert 37 in 8th index and 2 in 12th index and 5 in 1000 index \n",
        "\n",
        "li = [1,3,4,5,6,7,8,9,10,11,23,67,89,23,12,78,90,22,67,88,89]\n",
        "li.insert(8,37)\n",
        "print(li)\n",
        "li.insert(2,12)\n",
        "print(li)\n",
        "li.insert(100,5)\n",
        "print(li)"
      ]
    },
    {
      "cell_type": "code",
      "execution_count": null,
      "metadata": {
        "colab": {
          "base_uri": "https://localhost:8080/"
        },
        "id": "QFKDXNnX105F",
        "outputId": "b27c8dab-f866-41a5-c8cd-6a3eb78d59f6"
      },
      "outputs": [
        {
          "name": "stdout",
          "output_type": "stream",
          "text": [
            "Extended list after adding ex2 [1, 2, 3, 4, 5, 6, 7, 4, 8, 9, 10, 34]\n",
            "Extended list after adding ex1 [4, 8, 9, 10, 34, 1, 2, 3, 4, 5, 6, 7, 4, 8, 9, 10, 34]\n"
          ]
        }
      ],
      "source": [
        "#extend\n",
        "ex1 = [1,2,3,4,5,6,7]\n",
        "ex2 = [4,8,9,10,34]\n",
        "ex1.extend(ex2)\n",
        "ex2.extend(ex1)\n",
        "print(\"Extended list after adding ex2\",ex1)\n",
        "print(\"Extended list after adding ex1\",ex2)"
      ]
    },
    {
      "cell_type": "code",
      "execution_count": null,
      "metadata": {
        "colab": {
          "base_uri": "https://localhost:8080/"
        },
        "id": "EsSu4p-G14Tk",
        "outputId": "811ecf16-7065-4b07-bb92-ccfbfd95275f"
      },
      "outputs": [
        {
          "name": "stdout",
          "output_type": "stream",
          "text": [
            "158\n"
          ]
        }
      ],
      "source": [
        "#sum\n",
        "print(sum(ex2))"
      ]
    },
    {
      "cell_type": "code",
      "execution_count": null,
      "metadata": {
        "colab": {
          "base_uri": "https://localhost:8080/"
        },
        "id": "eQPef-Yy2Mjd",
        "outputId": "60101465-d234-4895-e5fb-41c20801cafb"
      },
      "outputs": [
        {
          "name": "stdout",
          "output_type": "stream",
          "text": [
            "5\n"
          ]
        }
      ],
      "source": [
        "#count\n",
        "count1 = [1,4,6,87,36,86,90,65,2,2,2,2,2,37,86,36,89,62,91,63]\n",
        "print(count1.count(2))"
      ]
    },
    {
      "cell_type": "code",
      "execution_count": null,
      "metadata": {
        "colab": {
          "base_uri": "https://localhost:8080/"
        },
        "id": "k8xqR8b02S75",
        "outputId": "2e5c0294-5e2c-4071-e513-0e91273f19eb"
      },
      "outputs": [
        {
          "data": {
            "text/plain": [
              "5"
            ]
          },
          "execution_count": 6,
          "metadata": {},
          "output_type": "execute_result"
        }
      ],
      "source": [
        "#indexing\n",
        "In = [6,7,8,9,2,3,4,1]\n",
        "In.index(3)"
      ]
    },
    {
      "cell_type": "code",
      "execution_count": null,
      "metadata": {
        "colab": {
          "base_uri": "https://localhost:8080/"
        },
        "id": "V-jUOWNr2aqP",
        "outputId": "d50d24ab-ba2f-4f29-aece-9f6b2d450752"
      },
      "outputs": [
        {
          "data": {
            "text/plain": [
              "9"
            ]
          },
          "execution_count": 7,
          "metadata": {},
          "output_type": "execute_result"
        }
      ],
      "source": [
        "In[3]"
      ]
    },
    {
      "cell_type": "code",
      "execution_count": null,
      "metadata": {
        "id": "OUKjXAk52-U_"
      },
      "outputs": [],
      "source": [
        "In[3:7]"
      ]
    },
    {
      "cell_type": "code",
      "execution_count": null,
      "metadata": {
        "colab": {
          "base_uri": "https://localhost:8080/"
        },
        "id": "uaWLKhs93Bci",
        "outputId": "26655815-d7ae-4400-dbd6-7210d37693e2"
      },
      "outputs": [
        {
          "data": {
            "text/plain": [
              "1"
            ]
          },
          "execution_count": 8,
          "metadata": {},
          "output_type": "execute_result"
        }
      ],
      "source": [
        "#min\n",
        "min(In)"
      ]
    },
    {
      "cell_type": "code",
      "execution_count": null,
      "metadata": {
        "colab": {
          "base_uri": "https://localhost:8080/"
        },
        "id": "VZP3HsOk3Grl",
        "outputId": "8e2dc6a6-aff0-41b9-f9ca-73abffecdce1"
      },
      "outputs": [
        {
          "data": {
            "text/plain": [
              "1"
            ]
          },
          "execution_count": 9,
          "metadata": {},
          "output_type": "execute_result"
        }
      ],
      "source": [
        "dc = [3,4,3.6,8,8,9,5,8,3,9,1,3,5,9]\n",
        "min(dc)"
      ]
    },
    {
      "cell_type": "code",
      "execution_count": null,
      "metadata": {
        "colab": {
          "base_uri": "https://localhost:8080/"
        },
        "id": "CjUYWkUt3crz",
        "outputId": "d84716d7-fc8c-4112-daee-44b18d2f10ae"
      },
      "outputs": [
        {
          "name": "stdout",
          "output_type": "stream",
          "text": [
            "[1, 2, 3, 4, 6, 7, 8, 9]\n",
            "5\n"
          ]
        }
      ],
      "source": [
        "#pop\n",
        "pop1 =[1,2,3,4,5,6,7,8,9]\n",
        "a = pop1.pop(4)\n",
        "print(pop1)\n",
        "print(a)"
      ]
    },
    {
      "cell_type": "code",
      "execution_count": null,
      "metadata": {
        "colab": {
          "base_uri": "https://localhost:8080/"
        },
        "id": "8R9qgpuP3Rzm",
        "outputId": "ae406b31-5d94-4a0a-bc02-58ba3764e5fb"
      },
      "outputs": [
        {
          "data": {
            "text/plain": [
              "9"
            ]
          },
          "execution_count": 16,
          "metadata": {},
          "output_type": "execute_result"
        }
      ],
      "source": [
        "#max\n",
        "max(dc)"
      ]
    },
    {
      "cell_type": "code",
      "execution_count": null,
      "metadata": {
        "colab": {
          "base_uri": "https://localhost:8080/"
        },
        "id": "wG92N6M_4Kdu",
        "outputId": "323c809e-58b4-4867-da0f-ac221c7d0dcd"
      },
      "outputs": [
        {
          "data": {
            "text/plain": [
              "9"
            ]
          },
          "execution_count": 17,
          "metadata": {},
          "output_type": "execute_result"
        }
      ],
      "source": [
        "pop1.pop()"
      ]
    },
    {
      "cell_type": "code",
      "execution_count": null,
      "metadata": {
        "colab": {
          "base_uri": "https://localhost:8080/"
        },
        "id": "Xl900FA14UVa",
        "outputId": "e5610b25-414e-43a3-b9ad-104bb98f4fa1"
      },
      "outputs": [
        {
          "data": {
            "text/plain": [
              "[2, 3, 5]"
            ]
          },
          "execution_count": 18,
          "metadata": {},
          "output_type": "execute_result"
        }
      ],
      "source": [
        "delete = [2,3,4,5]\n",
        "del delete[2]\n",
        "delete"
      ]
    },
    {
      "cell_type": "code",
      "execution_count": null,
      "metadata": {
        "colab": {
          "base_uri": "https://localhost:8080/"
        },
        "id": "0LYbnVpN4ZI-",
        "outputId": "21a28f34-c0bd-45fc-dde0-0f7c81db8530"
      },
      "outputs": [
        {
          "name": "stdout",
          "output_type": "stream",
          "text": [
            "[2.3, 3, 8, 17]\n"
          ]
        }
      ],
      "source": [
        "#remove\n",
        "remove1 = [2.3,4,3,8,17]\n",
        "b = remove1.remove(4)\n",
        "print(remove1)"
      ]
    },
    {
      "cell_type": "code",
      "execution_count": null,
      "metadata": {
        "colab": {
          "base_uri": "https://localhost:8080/"
        },
        "id": "RoGngv5t4g6d",
        "outputId": "5c7eb960-1669-4e1a-d02f-916d45d0f33a"
      },
      "outputs": [
        {
          "name": "stdout",
          "output_type": "stream",
          "text": [
            "[2.3, 3, 8, 17]\n"
          ]
        }
      ],
      "source": [
        "print(remove1)"
      ]
    },
    {
      "cell_type": "code",
      "execution_count": null,
      "metadata": {
        "colab": {
          "base_uri": "https://localhost:8080/"
        },
        "id": "O9iuScpp4l7Y",
        "outputId": "f849b4db-00fa-428c-b29f-4f7862e2aa5d"
      },
      "outputs": [
        {
          "name": "stdout",
          "output_type": "stream",
          "text": [
            "after swapping\n",
            "45\n",
            "after swapping\n",
            "12\n",
            "after swapping\n",
            "3\n"
          ]
        }
      ],
      "source": [
        "#To do\n",
        "#a = 12\n",
        "#b = 3\n",
        "#c = 45\n",
        "#Write a swapping where a == c, b == a, c = b\n",
        "a = 12\n",
        "b = 3 \n",
        "c = 45\n",
        "\n",
        "a,c = c,a\n",
        "print(\"after swapping\")\n",
        "print(a)\n",
        "\n",
        "b,c= c,b\n",
        "print(\"after swapping\")\n",
        "print(b)\n",
        "\n",
        "c,a = a,c\n",
        "print(\"after swapping\")\n",
        "print(a)\n"
      ]
    },
    {
      "cell_type": "code",
      "execution_count": null,
      "metadata": {
        "colab": {
          "base_uri": "https://localhost:8080/"
        },
        "id": "8GgCUXBH4v4x",
        "outputId": "a449a108-c8df-44fc-8a4c-1455dea5b229"
      },
      "outputs": [
        {
          "name": "stdout",
          "output_type": "stream",
          "text": [
            "23\n",
            "9\n",
            "23\n",
            "23\n",
            "9\n"
          ]
        }
      ],
      "source": [
        "x = 23\n",
        "y = 9\n",
        "temp = x\n",
        "print(temp)\n",
        "x = y\n",
        "y = temp\n",
        "print(x)\n",
        "print(y)\n",
        "\n",
        "x,y = y,x\n",
        "print(x)\n",
        "print(y)"
      ]
    },
    {
      "cell_type": "markdown",
      "metadata": {
        "id": "xYUE2mYG44kr"
      },
      "source": [
        "**String**"
      ]
    },
    {
      "cell_type": "code",
      "execution_count": null,
      "metadata": {
        "colab": {
          "base_uri": "https://localhost:8080/",
          "height": 35
        },
        "id": "14CPde7M4_df",
        "outputId": "4f2c9f5f-3cd1-4cd1-dea7-713dbb699899"
      },
      "outputs": [
        {
          "data": {
            "application/vnd.google.colaboratory.intrinsic+json": {
              "type": "string"
            },
            "text/plain": [
              "'Anagha'"
            ]
          },
          "execution_count": 23,
          "metadata": {},
          "output_type": "execute_result"
        }
      ],
      "source": [
        "name = 'Anagha'\n",
        "course = 'MCA'\n",
        "name.capitalize()"
      ]
    },
    {
      "cell_type": "code",
      "execution_count": null,
      "metadata": {
        "colab": {
          "base_uri": "https://localhost:8080/"
        },
        "id": "CgJQeLGl5GU_",
        "outputId": "66da0e78-24e9-48e7-d2f7-7e1dfc7b02d5"
      },
      "outputs": [
        {
          "data": {
            "text/plain": [
              "2"
            ]
          },
          "execution_count": 24,
          "metadata": {},
          "output_type": "execute_result"
        }
      ],
      "source": [
        "name.count(\"a\")"
      ]
    },
    {
      "cell_type": "code",
      "execution_count": null,
      "metadata": {
        "colab": {
          "base_uri": "https://localhost:8080/"
        },
        "id": "gPVAPRJq5LYD",
        "outputId": "a55093aa-71d8-4fb2-9814-779fc272fc9b"
      },
      "outputs": [
        {
          "data": {
            "text/plain": [
              "4"
            ]
          },
          "execution_count": 25,
          "metadata": {},
          "output_type": "execute_result"
        }
      ],
      "source": [
        "name.find(\"h\")"
      ]
    },
    {
      "cell_type": "code",
      "execution_count": null,
      "metadata": {
        "colab": {
          "base_uri": "https://localhost:8080/"
        },
        "id": "smNckdU-5QVj",
        "outputId": "a61aa035-47bd-42d4-e99a-d1e0ba236d6b"
      },
      "outputs": [
        {
          "data": {
            "text/plain": [
              "True"
            ]
          },
          "execution_count": 26,
          "metadata": {},
          "output_type": "execute_result"
        }
      ],
      "source": [
        "name.isalpha()"
      ]
    },
    {
      "cell_type": "code",
      "execution_count": null,
      "metadata": {
        "colab": {
          "base_uri": "https://localhost:8080/"
        },
        "id": "izSXa1kE5TJC",
        "outputId": "748567a8-4f8d-4623-8a90-ae77310216cf"
      },
      "outputs": [
        {
          "data": {
            "text/plain": [
              "False"
            ]
          },
          "execution_count": 27,
          "metadata": {},
          "output_type": "execute_result"
        }
      ],
      "source": [
        "name.islower()"
      ]
    },
    {
      "cell_type": "code",
      "execution_count": null,
      "metadata": {
        "colab": {
          "base_uri": "https://localhost:8080/"
        },
        "id": "bTDSDy8A5fOX",
        "outputId": "36e8227f-fecb-4f74-89a7-932fd9ccb8fc"
      },
      "outputs": [
        {
          "data": {
            "text/plain": [
              "False"
            ]
          },
          "execution_count": 28,
          "metadata": {},
          "output_type": "execute_result"
        }
      ],
      "source": [
        "name.isupper()"
      ]
    },
    {
      "cell_type": "code",
      "execution_count": null,
      "metadata": {
        "colab": {
          "base_uri": "https://localhost:8080/",
          "height": 35
        },
        "id": "hvR9yNlk5lYL",
        "outputId": "96dbe586-87d5-4a3b-91f4-e1137240cfd3"
      },
      "outputs": [
        {
          "data": {
            "application/vnd.google.colaboratory.intrinsic+json": {
              "type": "string"
            },
            "text/plain": [
              "'anagha'"
            ]
          },
          "execution_count": 29,
          "metadata": {},
          "output_type": "execute_result"
        }
      ],
      "source": [
        "name.lower()"
      ]
    },
    {
      "cell_type": "code",
      "execution_count": null,
      "metadata": {
        "colab": {
          "base_uri": "https://localhost:8080/",
          "height": 35
        },
        "id": "IJocK8Bk5oO0",
        "outputId": "404fbe13-cac1-4950-cb4f-f336a98744f3"
      },
      "outputs": [
        {
          "data": {
            "application/vnd.google.colaboratory.intrinsic+json": {
              "type": "string"
            },
            "text/plain": [
              "'ANAGHA'"
            ]
          },
          "execution_count": 30,
          "metadata": {},
          "output_type": "execute_result"
        }
      ],
      "source": [
        "name.upper()"
      ]
    },
    {
      "cell_type": "code",
      "execution_count": null,
      "metadata": {
        "colab": {
          "base_uri": "https://localhost:8080/",
          "height": 35
        },
        "id": "oJiZmget566i",
        "outputId": "80cd4b56-9cf2-41ab-edd2-13316d07c8e0"
      },
      "outputs": [
        {
          "data": {
            "application/vnd.google.colaboratory.intrinsic+json": {
              "type": "string"
            },
            "text/plain": [
              "'Anagha'"
            ]
          },
          "execution_count": 31,
          "metadata": {},
          "output_type": "execute_result"
        }
      ],
      "source": [
        "name.strip()"
      ]
    },
    {
      "cell_type": "code",
      "execution_count": null,
      "metadata": {
        "colab": {
          "base_uri": "https://localhost:8080/"
        },
        "id": "ZBuvC1Ue6BVi",
        "outputId": "c5eb325c-36b3-4039-ea5e-94295a0bdc55"
      },
      "outputs": [
        {
          "data": {
            "text/plain": [
              "['python', 'is', 'a', 'programming', 'language']"
            ]
          },
          "execution_count": 32,
          "metadata": {},
          "output_type": "execute_result"
        }
      ],
      "source": [
        "a = \"python is a programming language\"\n",
        "a.split(\" \")"
      ]
    },
    {
      "cell_type": "code",
      "execution_count": null,
      "metadata": {
        "colab": {
          "base_uri": "https://localhost:8080/"
        },
        "id": "nSaaagrK6HIH",
        "outputId": "17adda46-6aa6-4575-ce0b-4ef61f15e6de"
      },
      "outputs": [
        {
          "data": {
            "text/plain": [
              "['python ', ' a programming language']"
            ]
          },
          "execution_count": 33,
          "metadata": {},
          "output_type": "execute_result"
        }
      ],
      "source": [
        "a.split(\"is\")"
      ]
    },
    {
      "cell_type": "code",
      "execution_count": null,
      "metadata": {
        "colab": {
          "base_uri": "https://localhost:8080/",
          "height": 35
        },
        "id": "AnPT39WW6Qot",
        "outputId": "92eaf7d9-02ac-47fe-8b7e-79bff0de3b43"
      },
      "outputs": [
        {
          "data": {
            "application/vnd.google.colaboratory.intrinsic+json": {
              "type": "string"
            },
            "text/plain": [
              "'Python Language'"
            ]
          },
          "execution_count": 34,
          "metadata": {},
          "output_type": "execute_result"
        }
      ],
      "source": [
        "b = \"Python\"\n",
        "c = \"Language\"\n",
        "b+c\n",
        "b + \" \"+ c"
      ]
    },
    {
      "cell_type": "code",
      "execution_count": null,
      "metadata": {
        "colab": {
          "base_uri": "https://localhost:8080/",
          "height": 35
        },
        "id": "wNYytgJc8ijA",
        "outputId": "950cc457-3fec-4961-b79e-ef27f884f708"
      },
      "outputs": [
        {
          "data": {
            "application/vnd.google.colaboratory.intrinsic+json": {
              "type": "string"
            },
            "text/plain": [
              "'python is a programming languagepython is a programming languagepython is a programming language'"
            ]
          },
          "execution_count": 35,
          "metadata": {},
          "output_type": "execute_result"
        }
      ],
      "source": [
        "a*3"
      ]
    },
    {
      "cell_type": "code",
      "execution_count": null,
      "metadata": {
        "colab": {
          "base_uri": "https://localhost:8080/"
        },
        "id": "aLvVmZEi8qNu",
        "outputId": "c395efa0-ec4d-4a2d-e195-713c262dcc25"
      },
      "outputs": [
        {
          "output_type": "execute_result",
          "data": {
            "text/plain": [
              "20"
            ]
          },
          "metadata": {},
          "execution_count": 1
        }
      ],
      "source": [
        "str1 = 'Hello to the kingdom'\n",
        "len(str1)"
      ]
    },
    {
      "cell_type": "code",
      "execution_count": null,
      "metadata": {
        "id": "PmF_tihI8tC3",
        "colab": {
          "base_uri": "https://localhost:8080/",
          "height": 35
        },
        "outputId": "3d807005-94c0-48d6-9f3c-7ff986781108"
      },
      "outputs": [
        {
          "output_type": "execute_result",
          "data": {
            "application/vnd.google.colaboratory.intrinsic+json": {
              "type": "string"
            },
            "text/plain": [
              "'l'"
            ]
          },
          "metadata": {},
          "execution_count": 2
        }
      ],
      "source": [
        "str1[3]"
      ]
    },
    {
      "cell_type": "code",
      "execution_count": null,
      "metadata": {
        "id": "pfKbDTY78zgq",
        "colab": {
          "base_uri": "https://localhost:8080/",
          "height": 35
        },
        "outputId": "6724fa48-a415-43da-9fdb-9e2b955d206d"
      },
      "outputs": [
        {
          "output_type": "execute_result",
          "data": {
            "application/vnd.google.colaboratory.intrinsic+json": {
              "type": "string"
            },
            "text/plain": [
              "'o to'"
            ]
          },
          "metadata": {},
          "execution_count": 3
        }
      ],
      "source": [
        "str1[4:8]"
      ]
    },
    {
      "cell_type": "code",
      "execution_count": null,
      "metadata": {
        "id": "M4K3ps4K84be",
        "colab": {
          "base_uri": "https://localhost:8080/",
          "height": 35
        },
        "outputId": "55c25946-9077-4b31-b1c1-136d13472077"
      },
      "outputs": [
        {
          "output_type": "execute_result",
          "data": {
            "application/vnd.google.colaboratory.intrinsic+json": {
              "type": "string"
            },
            "text/plain": [
              "'the'"
            ]
          },
          "metadata": {},
          "execution_count": 4
        }
      ],
      "source": [
        "str1[9:12]"
      ]
    },
    {
      "cell_type": "code",
      "source": [
        "str1.replace('the','a')"
      ],
      "metadata": {
        "colab": {
          "base_uri": "https://localhost:8080/",
          "height": 35
        },
        "id": "Z52LWAVZLg6j",
        "outputId": "5d9a62e3-8718-4342-9916-e1f3b88b9c58"
      },
      "execution_count": null,
      "outputs": [
        {
          "output_type": "execute_result",
          "data": {
            "application/vnd.google.colaboratory.intrinsic+json": {
              "type": "string"
            },
            "text/plain": [
              "'Hello to a kingdom'"
            ]
          },
          "metadata": {},
          "execution_count": 6
        }
      ]
    },
    {
      "cell_type": "markdown",
      "source": [
        "05-03-2022 Task 3"
      ],
      "metadata": {
        "id": "c6kLdFFrLmBv"
      }
    },
    {
      "cell_type": "markdown",
      "source": [
        "Tuples"
      ],
      "metadata": {
        "id": "F4PgDVDvMG0B"
      }
    },
    {
      "cell_type": "code",
      "source": [
        "this1 = ('mango','banana','orange','kiwi','melon','mango')"
      ],
      "metadata": {
        "id": "90MPyBUfMIN6"
      },
      "execution_count": null,
      "outputs": []
    },
    {
      "cell_type": "code",
      "source": [
        "this1[1] "
      ],
      "metadata": {
        "colab": {
          "base_uri": "https://localhost:8080/",
          "height": 35
        },
        "id": "4XXOQOs4O8cR",
        "outputId": "70951572-a234-46ed-de15-8cc0cb3e24a7"
      },
      "execution_count": null,
      "outputs": [
        {
          "output_type": "execute_result",
          "data": {
            "application/vnd.google.colaboratory.intrinsic+json": {
              "type": "string"
            },
            "text/plain": [
              "'banana'"
            ]
          },
          "metadata": {},
          "execution_count": 8
        }
      ]
    },
    {
      "cell_type": "code",
      "source": [
        "this1[3:5]"
      ],
      "metadata": {
        "colab": {
          "base_uri": "https://localhost:8080/"
        },
        "id": "1XDecMXTPAxg",
        "outputId": "a06492d4-58e1-4600-eb2c-5b16ec13f2c0"
      },
      "execution_count": null,
      "outputs": [
        {
          "output_type": "execute_result",
          "data": {
            "text/plain": [
              "('kiwi', 'melon')"
            ]
          },
          "metadata": {},
          "execution_count": 9
        }
      ]
    },
    {
      "cell_type": "code",
      "source": [
        "tuple1 = (1,2,3,4)\n",
        "tuple2 = ('abc',3,4,'bnh')\n",
        "tuple3 = tuple1 + tuple2\n",
        "print(tuple3)"
      ],
      "metadata": {
        "colab": {
          "base_uri": "https://localhost:8080/"
        },
        "id": "Sh1i7BQYPMY1",
        "outputId": "4d01a091-8702-443c-e989-ae916f1fe754"
      },
      "execution_count": null,
      "outputs": [
        {
          "output_type": "stream",
          "name": "stdout",
          "text": [
            "(1, 2, 3, 4, 'abc', 3, 4, 'bnh')\n"
          ]
        }
      ]
    },
    {
      "cell_type": "code",
      "source": [
        "tup = tuple('hello')\n",
        "print(tup)"
      ],
      "metadata": {
        "colab": {
          "base_uri": "https://localhost:8080/"
        },
        "id": "bR7hAvrRPSmj",
        "outputId": "f02b40a2-3ca2-44bc-dca0-ccdb05a7848b"
      },
      "execution_count": null,
      "outputs": [
        {
          "output_type": "stream",
          "name": "stdout",
          "text": [
            "('h', 'e', 'l', 'l', 'o')\n"
          ]
        }
      ]
    },
    {
      "cell_type": "code",
      "source": [
        "#to do\n",
        "#Create a tuple ('hello','world')\n",
        "tu1 = tuple('hello')\n",
        "tu2 = tuple('world')\n",
        "print(tu1 + tu2)"
      ],
      "metadata": {
        "colab": {
          "base_uri": "https://localhost:8080/"
        },
        "id": "XtJj09knPWb4",
        "outputId": "1775bb20-9ec2-406e-e59a-efa47afd32e5"
      },
      "execution_count": null,
      "outputs": [
        {
          "output_type": "stream",
          "name": "stdout",
          "text": [
            "('h', 'e', 'l', 'l', 'o', 'w', 'o', 'r', 'l', 'd')\n"
          ]
        }
      ]
    },
    {
      "cell_type": "code",
      "source": [
        "tu1 = ('hello','world')\n",
        "print(tu1)"
      ],
      "metadata": {
        "colab": {
          "base_uri": "https://localhost:8080/"
        },
        "id": "PzmlTnC1Phvh",
        "outputId": "bacbd77c-5782-45dd-f308-a3d6c9fdfc36"
      },
      "execution_count": null,
      "outputs": [
        {
          "output_type": "stream",
          "name": "stdout",
          "text": [
            "('hello', 'world')\n"
          ]
        }
      ]
    },
    {
      "cell_type": "code",
      "source": [
        "#repetation\n",
        "tu = tuple(\"hello\",) *3\n",
        "print(tu)"
      ],
      "metadata": {
        "colab": {
          "base_uri": "https://localhost:8080/"
        },
        "id": "gEWaEdqcPlf6",
        "outputId": "633abc9e-5d5b-4310-e9fe-ac070298fb79"
      },
      "execution_count": null,
      "outputs": [
        {
          "output_type": "stream",
          "name": "stdout",
          "text": [
            "('h', 'e', 'l', 'l', 'o', 'h', 'e', 'l', 'l', 'o', 'h', 'e', 'l', 'l', 'o')\n"
          ]
        }
      ]
    },
    {
      "cell_type": "code",
      "source": [
        "#tuple unpacking\n",
        "tuple4 = (\"hello\",'good','people')\n",
        "a,b,c = tuple4\n",
        "print(a)\n",
        "print(b)\n",
        "print(c)"
      ],
      "metadata": {
        "colab": {
          "base_uri": "https://localhost:8080/"
        },
        "id": "sfTk0iWTPpDR",
        "outputId": "03c35689-1d07-4c5d-f121-38a37cf5bff9"
      },
      "execution_count": null,
      "outputs": [
        {
          "output_type": "stream",
          "name": "stdout",
          "text": [
            "hello\n",
            "good\n",
            "people\n"
          ]
        }
      ]
    },
    {
      "cell_type": "code",
      "source": [
        "dic ={'name':'Anagha','age':22}\n",
        "#deleting the key\n",
        "del dic[\"name\"]\n",
        "print(dic)"
      ],
      "metadata": {
        "colab": {
          "base_uri": "https://localhost:8080/"
        },
        "id": "BcCvZFEtPzJq",
        "outputId": "5f9a7018-1e86-4f03-8edc-da6df04e9005"
      },
      "execution_count": null,
      "outputs": [
        {
          "output_type": "stream",
          "name": "stdout",
          "text": [
            "{'age': 23}\n"
          ]
        }
      ]
    },
    {
      "cell_type": "code",
      "source": [
        "dic [\"number\"] = 1234\n",
        "dic [\"name\"] = \"Anagha\"\n",
        "print(dic)"
      ],
      "metadata": {
        "colab": {
          "base_uri": "https://localhost:8080/"
        },
        "id": "8Etn0XnuQCYM",
        "outputId": "3f122544-0bc6-484e-c9db-85962f90555a"
      },
      "execution_count": null,
      "outputs": [
        {
          "output_type": "stream",
          "name": "stdout",
          "text": [
            "{'age': 23, 'number': 1234, 'name': 'Anagha'}\n"
          ]
        }
      ]
    },
    {
      "cell_type": "code",
      "source": [
        "dic.pop(\"age\")"
      ],
      "metadata": {
        "colab": {
          "base_uri": "https://localhost:8080/"
        },
        "id": "a_Hb5EYGQQpa",
        "outputId": "58c770e1-5f52-4c29-9ca5-4edf60b7a235"
      },
      "execution_count": null,
      "outputs": [
        {
          "output_type": "execute_result",
          "data": {
            "text/plain": [
              "23"
            ]
          },
          "metadata": {},
          "execution_count": 19
        }
      ]
    },
    {
      "cell_type": "code",
      "source": [
        "print(dic)"
      ],
      "metadata": {
        "colab": {
          "base_uri": "https://localhost:8080/"
        },
        "id": "uPre8kpPQWkO",
        "outputId": "8612c02b-48a6-4b62-bdb7-8d490f42dc87"
      },
      "execution_count": null,
      "outputs": [
        {
          "output_type": "stream",
          "name": "stdout",
          "text": [
            "{'number': 1234, 'name': 'Anagha'}\n"
          ]
        }
      ]
    },
    {
      "cell_type": "markdown",
      "source": [
        "Double-click (or enter) to edit"
      ],
      "metadata": {
        "id": "wWbgPgvpQc09"
      }
    },
    {
      "cell_type": "code",
      "source": [
        "#constructors\n",
        "temp = dict(brand=\"ford\",model=\"d2\",year=2002)\n",
        "print(temp)"
      ],
      "metadata": {
        "colab": {
          "base_uri": "https://localhost:8080/"
        },
        "id": "x_ohGr2XQgtc",
        "outputId": "4c4fdc71-790a-400c-a648-9b9f91e8b882"
      },
      "execution_count": null,
      "outputs": [
        {
          "output_type": "stream",
          "name": "stdout",
          "text": [
            "{'brand': 'ford', 'model': 'd2', 'year': 2002}\n"
          ]
        }
      ]
    },
    {
      "cell_type": "code",
      "source": [
        "aa = dict(temp)\n",
        "print(aa)"
      ],
      "metadata": {
        "colab": {
          "base_uri": "https://localhost:8080/"
        },
        "id": "IbzYYPffQ1wa",
        "outputId": "0669823b-634f-486c-ef94-7202028e3231"
      },
      "execution_count": null,
      "outputs": [
        {
          "output_type": "stream",
          "name": "stdout",
          "text": [
            "{'brand': 'ford', 'model': 'd2', 'year': 2002}\n"
          ]
        }
      ]
    },
    {
      "cell_type": "code",
      "source": [
        "di = {'Dict1':{1:'get'},'Dict2':{'Name':'for'}}\n",
        "di"
      ],
      "metadata": {
        "colab": {
          "base_uri": "https://localhost:8080/"
        },
        "id": "D4BpFS07Q42B",
        "outputId": "145aa84c-6487-41f2-e4f8-f4ed7fd0ff95"
      },
      "execution_count": null,
      "outputs": [
        {
          "output_type": "execute_result",
          "data": {
            "text/plain": [
              "{'Dict1': {1: 'get'}, 'Dict2': {'Name': 'for'}}"
            ]
          },
          "metadata": {},
          "execution_count": 24
        }
      ]
    },
    {
      "cell_type": "code",
      "source": [
        "di['Dict1'][1]"
      ],
      "metadata": {
        "colab": {
          "base_uri": "https://localhost:8080/",
          "height": 35
        },
        "id": "RsVK9Hl7RN_C",
        "outputId": "70aab99c-1d00-47ac-8450-19a3a8e9401e"
      },
      "execution_count": null,
      "outputs": [
        {
          "output_type": "execute_result",
          "data": {
            "application/vnd.google.colaboratory.intrinsic+json": {
              "type": "string"
            },
            "text/plain": [
              "'get'"
            ]
          },
          "metadata": {},
          "execution_count": 26
        }
      ]
    },
    {
      "cell_type": "code",
      "source": [
        "di.clear()"
      ],
      "metadata": {
        "id": "A9fPB12-Ridt"
      },
      "execution_count": null,
      "outputs": []
    },
    {
      "cell_type": "markdown",
      "source": [
        "It is a kind of decision making forurm where to keep thestatement or not\n",
        "\n",
        "**Conditional statements**"
      ],
      "metadata": {
        "id": "N8hHRxcvRmAf"
      }
    },
    {
      "cell_type": "code",
      "source": [
        "#if condition to execute(When the statement is true)\n",
        "#if condition:\n",
        " # statement1\n",
        "  #stat2\n",
        "  #\n",
        "#stat3\n",
        "\n",
        "#else:\n",
        "  #stat4"
      ],
      "metadata": {
        "id": "lxx42x6uSOGI"
      },
      "execution_count": null,
      "outputs": []
    },
    {
      "cell_type": "code",
      "source": [
        "i = 5\n",
        "if (i<25):\n",
        "  print(\"i is less than 25\")\n",
        "\n",
        "print('I am not in if block')"
      ],
      "metadata": {
        "colab": {
          "base_uri": "https://localhost:8080/"
        },
        "id": "9xJu4yVXSYaQ",
        "outputId": "e2744eee-90b2-4419-cee2-fd39b1664756"
      },
      "execution_count": null,
      "outputs": [
        {
          "output_type": "stream",
          "name": "stdout",
          "text": [
            "i is less than 25\n",
            "I am not in if block\n"
          ]
        }
      ]
    },
    {
      "cell_type": "code",
      "source": [
        "#To do \n",
        "#specify what it is doing : if the assigned value is equal to the initialized value the print hello or else print the initialized value thrice\n",
        "#also mention and clear errors : indentation\n",
        "\n",
        "string = \"Anagha\"\n",
        "if string == \"Anagha\":\n",
        "  print('hello')\n",
        "else:\n",
        "  string = string*3\n",
        "  print(string)\n"
      ],
      "metadata": {
        "colab": {
          "base_uri": "https://localhost:8080/"
        },
        "id": "LdCnRkJGS_OC",
        "outputId": "ed6144e2-7692-4207-a0ed-3e5321ff7c32"
      },
      "execution_count": null,
      "outputs": [
        {
          "output_type": "stream",
          "name": "stdout",
          "text": [
            "hello\n"
          ]
        }
      ]
    },
    {
      "cell_type": "code",
      "source": [
        "string = \"Anagha\"\n",
        "if string == \"Anaghaa\":\n",
        "  print('hello')\n",
        "else:\n",
        "  string = string*3\n",
        "  print(string)"
      ],
      "metadata": {
        "colab": {
          "base_uri": "https://localhost:8080/"
        },
        "id": "XAdb5t5LTHwV",
        "outputId": "ea1a8144-fc73-4bc8-d44d-6f40bf4365de"
      },
      "execution_count": null,
      "outputs": [
        {
          "output_type": "stream",
          "name": "stdout",
          "text": [
            "AnaghaAnaghaAnagha\n"
          ]
        }
      ]
    },
    {
      "cell_type": "code",
      "source": [
        "i = 20\n",
        "if (i<15):\n",
        "  print(\"i is smaller than 15\")\n",
        "  print(\"i am in if block\")\n",
        "\n",
        "else:\n",
        "  print(\"i is greater or equal to 15\")\n",
        "  print(\"i am in else block\")"
      ],
      "metadata": {
        "colab": {
          "base_uri": "https://localhost:8080/"
        },
        "id": "-pfHq-XWTy5B",
        "outputId": "8a65829d-0d32-4fc5-ff4e-a7ad51792439"
      },
      "execution_count": null,
      "outputs": [
        {
          "output_type": "stream",
          "name": "stdout",
          "text": [
            "i is greater or equal to 15\n",
            "i am in else block\n"
          ]
        }
      ]
    },
    {
      "cell_type": "code",
      "source": [
        "#Nested if-else\n",
        "i = 40\n",
        "if (i == 40):\n",
        "  if(i<=15):\n",
        "    print(\"i is smaller than 15\")\n",
        "\n",
        "  if(i<12):\n",
        "    print(\"i is smaller than 12 too\")\n",
        "\n",
        "  else:\n",
        "    print('i is greater than 15')\n",
        "\n",
        "else:\n",
        "  print()"
      ],
      "metadata": {
        "colab": {
          "base_uri": "https://localhost:8080/"
        },
        "id": "_NLFBtZ8T2av",
        "outputId": "7da5979c-0fd8-44be-fa43-f9c7d4f6197d"
      },
      "execution_count": null,
      "outputs": [
        {
          "output_type": "stream",
          "name": "stdout",
          "text": [
            "i is greater than 15\n"
          ]
        }
      ]
    },
    {
      "cell_type": "markdown",
      "source": [
        "**For loop**"
      ],
      "metadata": {
        "id": "QP0OoWKiwDh6"
      }
    },
    {
      "cell_type": "code",
      "source": [
        "#for loop\n",
        "for var in iterable:\n",
        "  #statements"
      ],
      "metadata": {
        "id": "0SJSw1plwM9-"
      },
      "execution_count": null,
      "outputs": []
    },
    {
      "cell_type": "code",
      "source": [
        "l = [1,2,3,4,5,6,7]\n",
        "for variable in l:\n",
        "  print(variable)"
      ],
      "metadata": {
        "colab": {
          "base_uri": "https://localhost:8080/"
        },
        "id": "XihRUfqfwQLc",
        "outputId": "96d4c88e-7e2f-41e4-dd01-315432f2e8ff"
      },
      "execution_count": null,
      "outputs": [
        {
          "output_type": "stream",
          "name": "stdout",
          "text": [
            "1\n",
            "2\n",
            "3\n",
            "4\n",
            "5\n",
            "6\n",
            "7\n"
          ]
        }
      ]
    },
    {
      "cell_type": "code",
      "source": [
        "l = ['tomato','brinjal','carrot']\n",
        "for i in l:\n",
        "  print(i)"
      ],
      "metadata": {
        "colab": {
          "base_uri": "https://localhost:8080/"
        },
        "id": "EoeHdy3Iwsyl",
        "outputId": "0b1e8b92-4f1a-494b-bb1c-7e9979f524a7"
      },
      "execution_count": null,
      "outputs": [
        {
          "output_type": "stream",
          "name": "stdout",
          "text": [
            "tomato\n",
            "brinjal\n",
            "carrot\n"
          ]
        }
      ]
    },
    {
      "cell_type": "code",
      "source": [
        "l = ['Anagha','Abi','Krishna']\n",
        "for i in l:\n",
        "  for j in i:\n",
        "    print(j)"
      ],
      "metadata": {
        "colab": {
          "base_uri": "https://localhost:8080/"
        },
        "id": "AC2vfjQ2wyJx",
        "outputId": "2f3c2131-e2ce-4093-8c9e-0e73f920778d"
      },
      "execution_count": null,
      "outputs": [
        {
          "output_type": "stream",
          "name": "stdout",
          "text": [
            "A\n",
            "n\n",
            "a\n",
            "g\n",
            "h\n",
            "a\n",
            "A\n",
            "b\n",
            "i\n",
            "K\n",
            "r\n",
            "i\n",
            "s\n",
            "h\n",
            "n\n",
            "a\n"
          ]
        }
      ]
    },
    {
      "cell_type": "code",
      "source": [
        "#Replace mushroom with banana\n",
        "l = ['tomato','brinjal','carrot','mushroom']\n",
        "l1 = [l3.replace(\"mushroom\",\"banana\")for l3 in l]\n",
        "print(l1)"
      ],
      "metadata": {
        "colab": {
          "base_uri": "https://localhost:8080/"
        },
        "id": "jv-8puiDxJPq",
        "outputId": "7a53d4b9-dd12-418d-f5c2-52e69e85e63e"
      },
      "execution_count": null,
      "outputs": [
        {
          "output_type": "stream",
          "name": "stdout",
          "text": [
            "['tomato', 'brinjal', 'carrot', 'banana']\n"
          ]
        }
      ]
    },
    {
      "cell_type": "code",
      "source": [
        "s = input()"
      ],
      "metadata": {
        "colab": {
          "base_uri": "https://localhost:8080/"
        },
        "id": "0DK_63svxOAr",
        "outputId": "20e82c1c-2f7b-42c5-8c7d-1f5d17a1e6e0"
      },
      "execution_count": null,
      "outputs": [
        {
          "name": "stdout",
          "output_type": "stream",
          "text": [
            "2\n"
          ]
        }
      ]
    },
    {
      "cell_type": "code",
      "source": [
        "print('String')"
      ],
      "metadata": {
        "colab": {
          "base_uri": "https://localhost:8080/"
        },
        "id": "upDcnaG4xRA0",
        "outputId": "f4080fda-b652-4d77-bf26-c899d7d6ccbb"
      },
      "execution_count": null,
      "outputs": [
        {
          "output_type": "stream",
          "name": "stdout",
          "text": [
            "String\n"
          ]
        }
      ]
    },
    {
      "cell_type": "code",
      "source": [
        "print(type(s))"
      ],
      "metadata": {
        "colab": {
          "base_uri": "https://localhost:8080/"
        },
        "id": "wa28XwKAxeOn",
        "outputId": "9745d174-3a9c-4169-9511-aaae9c96da1c"
      },
      "execution_count": null,
      "outputs": [
        {
          "output_type": "stream",
          "name": "stdout",
          "text": [
            "<class 'str'>\n"
          ]
        }
      ]
    },
    {
      "cell_type": "code",
      "source": [
        "s = list(input())"
      ],
      "metadata": {
        "colab": {
          "base_uri": "https://localhost:8080/"
        },
        "id": "qTJyhxs0xv0M",
        "outputId": "a47d7fcc-671c-49bd-de2e-0064ffbaa482"
      },
      "execution_count": null,
      "outputs": [
        {
          "name": "stdout",
          "output_type": "stream",
          "text": [
            "1234\n"
          ]
        }
      ]
    },
    {
      "cell_type": "code",
      "source": [
        "#to do\n",
        "#improvise\n",
        "print(s)"
      ],
      "metadata": {
        "colab": {
          "base_uri": "https://localhost:8080/"
        },
        "id": "Z57hvPUbxzIm",
        "outputId": "a85133d5-234c-4117-cd37-9d22ada14962"
      },
      "execution_count": null,
      "outputs": [
        {
          "output_type": "stream",
          "name": "stdout",
          "text": [
            "['1', '2', '3', '4']\n"
          ]
        }
      ]
    },
    {
      "cell_type": "code",
      "source": [
        "s = str(input())\n",
        "\n",
        "for i in s:\n",
        "  print(i)"
      ],
      "metadata": {
        "id": "DdnqJDqgx2aT"
      },
      "execution_count": null,
      "outputs": []
    },
    {
      "cell_type": "code",
      "source": [
        "d = dict()\n",
        "d['a'] = 123\n",
        "d['b'] = 456\n",
        "for i in d:\n",
        "  print(i,d[i])\n"
      ],
      "metadata": {
        "colab": {
          "base_uri": "https://localhost:8080/"
        },
        "id": "TetyPzsQx6cB",
        "outputId": "738b37fe-8325-4b34-ab60-1b80c77c67c7"
      },
      "execution_count": null,
      "outputs": [
        {
          "output_type": "stream",
          "name": "stdout",
          "text": [
            "a 123\n",
            "b 456\n"
          ]
        }
      ]
    },
    {
      "cell_type": "code",
      "source": [
        "for letter in 'whenareyouold':\n",
        "  if letter == 'e' or letter == 'w':\n",
        "    break\n",
        "print('current letter',letter)"
      ],
      "metadata": {
        "colab": {
          "base_uri": "https://localhost:8080/"
        },
        "id": "0-yuR8bCyVDi",
        "outputId": "c72875fc-d79e-4884-b5e5-752624c60a27"
      },
      "execution_count": null,
      "outputs": [
        {
          "output_type": "stream",
          "name": "stdout",
          "text": [
            "current letter w\n"
          ]
        }
      ]
    },
    {
      "cell_type": "code",
      "source": [
        "for letter in 'whenareyouold':\n",
        "  if letter == 'e' or letter == 'w':\n",
        "    pass\n",
        "print('current letter',letter)\n"
      ],
      "metadata": {
        "colab": {
          "base_uri": "https://localhost:8080/"
        },
        "id": "abxlOkhryfSQ",
        "outputId": "8f5ec1f1-ba25-436c-f9f4-33da2eb7729a"
      },
      "execution_count": null,
      "outputs": [
        {
          "output_type": "stream",
          "name": "stdout",
          "text": [
            "current letter d\n"
          ]
        }
      ]
    },
    {
      "cell_type": "code",
      "source": [
        "for letter in 'whenareyouold':\n",
        "  if letter == 'e' or letter == 'w':\n",
        "    continue\n",
        "print('letter',letter)\n"
      ],
      "metadata": {
        "colab": {
          "base_uri": "https://localhost:8080/"
        },
        "id": "bNq824-Tyj8P",
        "outputId": "91a2a8fa-9ff9-4750-a72b-2e71deba65f0"
      },
      "execution_count": null,
      "outputs": [
        {
          "output_type": "stream",
          "name": "stdout",
          "text": [
            "letter d\n"
          ]
        }
      ]
    },
    {
      "cell_type": "markdown",
      "source": [
        "**Range Functions**"
      ],
      "metadata": {
        "id": "DmUbZi0uzLb6"
      }
    },
    {
      "cell_type": "code",
      "source": [
        "list(range(1,10,1)) #list(staring point,ending point,iteration))"
      ],
      "metadata": {
        "colab": {
          "base_uri": "https://localhost:8080/"
        },
        "id": "1JirjOo0zWBj",
        "outputId": "42f82171-3461-4f1c-d8dd-85dcadf45099"
      },
      "execution_count": null,
      "outputs": [
        {
          "output_type": "execute_result",
          "data": {
            "text/plain": [
              "[1, 2, 3, 4, 5, 6, 7, 8, 9]"
            ]
          },
          "metadata": {},
          "execution_count": 17
        }
      ]
    },
    {
      "cell_type": "code",
      "source": [
        "for i in range(10):\n",
        "  print(i)"
      ],
      "metadata": {
        "colab": {
          "base_uri": "https://localhost:8080/"
        },
        "id": "0jYTmyMNzd4b",
        "outputId": "72112ea1-6a39-426b-d3cf-13c37ddbda39"
      },
      "execution_count": null,
      "outputs": [
        {
          "output_type": "stream",
          "name": "stdout",
          "text": [
            "0\n",
            "1\n",
            "2\n",
            "3\n",
            "4\n",
            "5\n",
            "6\n",
            "7\n",
            "8\n",
            "9\n"
          ]
        }
      ]
    },
    {
      "cell_type": "code",
      "source": [
        "l = [10,20,30,40]\n",
        "for i in range(len(l)):\n",
        "  print(l[i], end = \"  \")\n",
        "print()"
      ],
      "metadata": {
        "colab": {
          "base_uri": "https://localhost:8080/"
        },
        "id": "c9tz07zCzp_w",
        "outputId": "ae8fb3ff-c339-4b76-cd43-a3fa1cfb6bcc"
      },
      "execution_count": null,
      "outputs": [
        {
          "output_type": "stream",
          "name": "stdout",
          "text": [
            "10  20  30  40  \n"
          ]
        }
      ]
    },
    {
      "cell_type": "code",
      "source": [
        "#to do\n",
        "#perform of the sum of first 10 natural numbers(use loop)\n",
        "n = int(input(\"enter the:\"))\n",
        "sum = 0\n",
        "for num in range(1, n +1, 1):\n",
        "  sum = sum + num\n",
        "print('Sum of first 10 natural numbers',sum)\n"
      ],
      "metadata": {
        "colab": {
          "base_uri": "https://localhost:8080/"
        },
        "id": "CasFMIyAzvXB",
        "outputId": "585327ba-f811-4ba1-8c26-942f6c80b38b"
      },
      "execution_count": null,
      "outputs": [
        {
          "output_type": "stream",
          "name": "stdout",
          "text": [
            "enter the:10\n",
            "Sum of first 10 natural numbers 55\n"
          ]
        }
      ]
    },
    {
      "cell_type": "markdown",
      "source": [
        "#while loop"
      ],
      "metadata": {
        "id": "gQtL9C9E0CdB"
      }
    },
    {
      "cell_type": "code",
      "source": [
        "#while expression:\n",
        " # statement(s)"
      ],
      "metadata": {
        "id": "crXraK8S0MB6"
      },
      "execution_count": null,
      "outputs": []
    },
    {
      "cell_type": "code",
      "source": [
        "count = 0\n",
        "while (count<3):\n",
        "  count = count + 1\n",
        "  print('hello')"
      ],
      "metadata": {
        "colab": {
          "base_uri": "https://localhost:8080/"
        },
        "id": "J0BKv_jf0OW-",
        "outputId": "80a52782-b661-4b98-8919-79b7efaac997"
      },
      "execution_count": null,
      "outputs": [
        {
          "output_type": "stream",
          "name": "stdout",
          "text": [
            "hello\n",
            "hello\n",
            "hello\n"
          ]
        }
      ]
    },
    {
      "cell_type": "code",
      "source": [
        "a = [1,2,3,4]\n",
        "while a:\n",
        "  print(a.pop())"
      ],
      "metadata": {
        "id": "uvvzPU7G0oXu",
        "outputId": "5130065a-a717-4636-b384-7d2054b3e23c",
        "colab": {
          "base_uri": "https://localhost:8080/"
        }
      },
      "execution_count": null,
      "outputs": [
        {
          "output_type": "stream",
          "name": "stdout",
          "text": [
            "4\n",
            "3\n",
            "2\n",
            "1\n"
          ]
        }
      ]
    },
    {
      "cell_type": "code",
      "source": [
        "i = 0\n",
        "a = 'helloworld'\n",
        "\n",
        "while i<len(a):\n",
        "  if a[i] == 'e':\n",
        "    i+=1\n",
        "    continue\n",
        "  print('current letter',a[i])\n",
        "  i +=1"
      ],
      "metadata": {
        "colab": {
          "base_uri": "https://localhost:8080/"
        },
        "id": "wlrGWYhj0zh4",
        "outputId": "8c1424d8-d25a-471b-c7b3-ee5427759fa6"
      },
      "execution_count": null,
      "outputs": [
        {
          "output_type": "stream",
          "name": "stdout",
          "text": [
            "current letter h\n",
            "current letter l\n",
            "current letter l\n",
            "current letter o\n",
            "current letter w\n",
            "current letter o\n",
            "current letter r\n",
            "current letter l\n",
            "current letter d\n"
          ]
        }
      ]
    },
    {
      "cell_type": "code",
      "source": [
        "i = 0\n",
        "a = 'helloworld'\n",
        "\n",
        "while i<len(a):\n",
        "  if a[i] == 'e':\n",
        "    i+=1\n",
        "    break\n",
        "  print('current letter',a[i])\n",
        "  i +=1"
      ],
      "metadata": {
        "colab": {
          "base_uri": "https://localhost:8080/"
        },
        "id": "Jd8Q5G_J03Ei",
        "outputId": "8fd74982-aca1-42f1-bb6c-f43b4dcd67df"
      },
      "execution_count": null,
      "outputs": [
        {
          "output_type": "stream",
          "name": "stdout",
          "text": [
            "current letter h\n"
          ]
        }
      ]
    },
    {
      "cell_type": "markdown",
      "source": [
        "**08-03-2022 Task-5**\n",
        "Functions"
      ],
      "metadata": {
        "id": "cviQc5Ls1dWD"
      }
    },
    {
      "cell_type": "code",
      "source": [
        "questions =['name','color','shape']\n",
        "answers = ['apple','red','circle']\n",
        "for question, answer in zip(questions,answers):\n",
        "  print('What is your{0}? I am {1}.'.format(question,answer))"
      ],
      "metadata": {
        "colab": {
          "base_uri": "https://localhost:8080/"
        },
        "id": "EWu1teUo1h9q",
        "outputId": "7f7eead8-47a6-4b70-abbc-8e5166c2b049"
      },
      "execution_count": null,
      "outputs": [
        {
          "output_type": "stream",
          "name": "stdout",
          "text": [
            "What is yourname? I am apple.\n",
            "What is yourcolor? I am red.\n",
            "What is yourshape? I am circle.\n"
          ]
        }
      ]
    },
    {
      "cell_type": "code",
      "source": [
        "n = int(input())\n",
        "\n",
        "a = list(map(int, input().strip()))"
      ],
      "metadata": {
        "id": "iSc2iXK_1nfs"
      },
      "execution_count": null,
      "outputs": []
    },
    {
      "cell_type": "code",
      "source": [
        "print(a)"
      ],
      "metadata": {
        "id": "6rx5XujT1woS"
      },
      "execution_count": null,
      "outputs": []
    },
    {
      "cell_type": "code",
      "source": [
        "Function:\n",
        "  statement\n"
      ],
      "metadata": {
        "id": "LAbH9Jix3kKk"
      },
      "execution_count": null,
      "outputs": []
    },
    {
      "cell_type": "code",
      "source": [
        "def eo(x):\n",
        "  if (x%2 == 0):\n",
        "    print('even')\n",
        "  else:\n",
        "    print('odd')"
      ],
      "metadata": {
        "id": "_YMbqZpA3m5a"
      },
      "execution_count": null,
      "outputs": []
    },
    {
      "cell_type": "code",
      "source": [
        "eo(1)"
      ],
      "metadata": {
        "id": "f4IfnHED3sh7"
      },
      "execution_count": null,
      "outputs": []
    },
    {
      "cell_type": "code",
      "source": [
        "eo(9876543258658)"
      ],
      "metadata": {
        "id": "n17K9n9f3z2X"
      },
      "execution_count": null,
      "outputs": []
    },
    {
      "cell_type": "code",
      "source": [
        "n = input().strip(' ')\n",
        "a = list(map(int,n))"
      ],
      "metadata": {
        "id": "lGWi5yKb36_R"
      },
      "execution_count": null,
      "outputs": []
    },
    {
      "cell_type": "code",
      "source": [
        "def square_value(num):\n",
        "  return num**2\n",
        "\n",
        "print(square_value(2))"
      ],
      "metadata": {
        "id": "NSxIV4Ku4A12"
      },
      "execution_count": null,
      "outputs": []
    },
    {
      "cell_type": "code",
      "source": [
        "Lambda Function - whole function is written in one line itself\n",
        "\n",
        "lambda arguments :  Expression"
      ],
      "metadata": {
        "id": "07viC1uD4Hk9"
      },
      "execution_count": null,
      "outputs": []
    },
    {
      "cell_type": "code",
      "source": [
        "x = lambda a: a + 5\n",
        "print(x(22))"
      ],
      "metadata": {
        "id": "ievgpu6W4QeG"
      },
      "execution_count": null,
      "outputs": []
    },
    {
      "cell_type": "code",
      "source": [
        "x = lambda z: z + 5\n",
        "print(x(5))"
      ],
      "metadata": {
        "id": "9flnPt3-4U67"
      },
      "execution_count": null,
      "outputs": []
    },
    {
      "cell_type": "code",
      "source": [
        "def db(n):\n",
        "  return lambda x:x*n\n",
        "num_double = db(2)\n",
        "print(num_double(11))"
      ],
      "metadata": {
        "id": "6UmX4cbS4Yl9"
      },
      "execution_count": null,
      "outputs": []
    },
    {
      "cell_type": "code",
      "source": [
        "#seperate operator\n",
        "print('08','03','2022', sep='-')"
      ],
      "metadata": {
        "id": "h4aGZkon4cUV"
      },
      "execution_count": null,
      "outputs": []
    },
    {
      "cell_type": "markdown",
      "source": [
        "10-03-2022 Task-6"
      ],
      "metadata": {
        "id": "ZpG-ifV_4mye"
      }
    },
    {
      "cell_type": "code",
      "source": [
        "!pip3 install pandas\n",
        "!pip3 install numpy"
      ],
      "metadata": {
        "id": "cC69GiIp4qI8"
      },
      "execution_count": null,
      "outputs": []
    },
    {
      "cell_type": "code",
      "source": [
        "#importing the library\n",
        "import pandas as pd\n",
        "import numpy as np"
      ],
      "metadata": {
        "id": "pmzu9Cbk4uBW"
      },
      "execution_count": null,
      "outputs": []
    },
    {
      "cell_type": "code",
      "source": [
        "data = [1,2,3,4,45,7,\"Anagha\"]\n",
        "d = pd.Series(data)\n",
        "print(d)\n",
        "df = pd.DataFrame(d)\n",
        "print(df)"
      ],
      "metadata": {
        "id": "gGc0ziGP4xCT"
      },
      "execution_count": null,
      "outputs": []
    },
    {
      "cell_type": "code",
      "source": [
        "import numpy as np\n",
        "s = pd.Series([1,2,3,np.nan,8,9])\n",
        "\n",
        "print(s)"
      ],
      "metadata": {
        "id": "YEqSLZtw43H2"
      },
      "execution_count": null,
      "outputs": []
    },
    {
      "cell_type": "code",
      "source": [
        "d = pd.date_range('20220310', periods = 10)\n",
        "print(d)"
      ],
      "metadata": {
        "id": "OKpK4wkf5j0y"
      },
      "execution_count": null,
      "outputs": []
    },
    {
      "cell_type": "code",
      "source": [
        "import pandas as pd\n",
        "\n",
        "s1 = pd.Series([1,3,4,5,6,2,9])\n",
        "s2 = pd.Series([1.1,3.5,4.7,5.8,2.9,9.3])\n",
        "s3 = pd.Series(['a','b','c','d','e'])\n",
        "\n",
        "Data ={'first':s1, 'second':s2, 'third':s3}\n",
        "dfSeries = pd.DataFrame(Data)\n",
        "print(dfSeries)"
      ],
      "metadata": {
        "id": "RSLOIH5e5nhV"
      },
      "execution_count": null,
      "outputs": []
    },
    {
      "cell_type": "code",
      "source": [
        "df.to_csv('basic.csv')"
      ],
      "metadata": {
        "id": "DeJ8Bcd05tuH"
      },
      "execution_count": null,
      "outputs": []
    },
    {
      "cell_type": "code",
      "source": [
        "a = pd.read_csv('basic.csv')\n",
        "print(a)"
      ],
      "metadata": {
        "id": "NEcT7ID35xEF"
      },
      "execution_count": null,
      "outputs": []
    },
    {
      "cell_type": "code",
      "source": [
        "df = pd.DataFrame({'A':[1,2,3,4],\n",
        "                   'B':pd.Timestamp('20220310'),\n",
        "                   'C':pd.Series(1,index = list(range(4))),\n",
        "                   'D':np.array([5]*4,dtype = 'int32'),\n",
        "                   'E':pd.Categorical(['test','train','train','test'])\n",
        "                   })"
      ],
      "metadata": {
        "id": "jmjweUin6BHn"
      },
      "execution_count": null,
      "outputs": []
    },
    {
      "cell_type": "code",
      "source": [
        "df"
      ],
      "metadata": {
        "id": "0HsughaZ6E9l"
      },
      "execution_count": null,
      "outputs": []
    },
    {
      "cell_type": "code",
      "source": [
        "type(df)\n"
      ],
      "metadata": {
        "id": "cmXghVSN6J-H"
      },
      "execution_count": null,
      "outputs": []
    },
    {
      "cell_type": "code",
      "source": [
        "df.dtypes"
      ],
      "metadata": {
        "id": "83ytLckj6Nvo"
      },
      "execution_count": null,
      "outputs": []
    },
    {
      "cell_type": "code",
      "source": [
        "df.head()"
      ],
      "metadata": {
        "id": "hQ4wupYL6SNm"
      },
      "execution_count": null,
      "outputs": []
    },
    {
      "cell_type": "code",
      "source": [
        "df.head(2)"
      ],
      "metadata": {
        "id": "SR_NerDO6Y3k"
      },
      "execution_count": null,
      "outputs": []
    },
    {
      "cell_type": "code",
      "source": [
        "df.index"
      ],
      "metadata": {
        "id": "3O42glzt6b5h"
      },
      "execution_count": null,
      "outputs": []
    },
    {
      "cell_type": "code",
      "source": [
        "df.columns"
      ],
      "metadata": {
        "id": "6PNCmh-L6ncc"
      },
      "execution_count": null,
      "outputs": []
    },
    {
      "cell_type": "code",
      "source": [
        "df.describe()"
      ],
      "metadata": {
        "id": "DVyJtB-z6vZp"
      },
      "execution_count": null,
      "outputs": []
    },
    {
      "cell_type": "code",
      "source": [
        "df.sort_index(axis = 1, ascending = False)"
      ],
      "metadata": {
        "id": "KfImR_2l6xbu"
      },
      "execution_count": null,
      "outputs": []
    },
    {
      "cell_type": "code",
      "source": [
        "df.sort_values(by = 'A')"
      ],
      "metadata": {
        "id": "xv_oo5086648"
      },
      "execution_count": null,
      "outputs": []
    },
    {
      "cell_type": "code",
      "source": [
        "df[0:3]"
      ],
      "metadata": {
        "id": "RVeCLjcC69K7"
      },
      "execution_count": null,
      "outputs": []
    },
    {
      "cell_type": "code",
      "source": [
        "df.loc[d[0]]"
      ],
      "metadata": {
        "id": "9ebmbhpq7FkF"
      },
      "execution_count": null,
      "outputs": []
    },
    {
      "cell_type": "code",
      "source": [
        "df.loc[:,['A','B','C']]"
      ],
      "metadata": {
        "id": "C33oMNr57bjE"
      },
      "execution_count": null,
      "outputs": []
    },
    {
      "cell_type": "code",
      "source": [
        "#from position\n",
        "df.iloc[3]"
      ],
      "metadata": {
        "id": "C29occso7j3K"
      },
      "execution_count": null,
      "outputs": []
    },
    {
      "cell_type": "code",
      "source": [
        "df.iloc[0:2,3:5]"
      ],
      "metadata": {
        "id": "-vuPY0tQ7n9H"
      },
      "execution_count": null,
      "outputs": []
    },
    {
      "cell_type": "code",
      "source": [
        "df[df['A'] >2]"
      ],
      "metadata": {
        "id": "XUtKYuJd7q8i"
      },
      "execution_count": null,
      "outputs": []
    },
    {
      "cell_type": "code",
      "source": [
        "isnull()\n",
        "dropna()\n",
        "fillna()\n",
        "isna(na)"
      ],
      "metadata": {
        "id": "W7f2_gdF7uwn"
      },
      "execution_count": null,
      "outputs": []
    },
    {
      "cell_type": "code",
      "source": [
        "df.mean()"
      ],
      "metadata": {
        "id": "ApDmsJIR7ymI"
      },
      "execution_count": null,
      "outputs": []
    },
    {
      "cell_type": "code",
      "source": [
        "df = pd.Series([1,2,3,np.nan,4,5]).shift(2)"
      ],
      "metadata": {
        "id": "Esq-kSjr72m2"
      },
      "execution_count": null,
      "outputs": []
    },
    {
      "cell_type": "code",
      "source": [
        "df"
      ],
      "metadata": {
        "id": "S26dkQF678CA"
      },
      "execution_count": null,
      "outputs": []
    },
    {
      "cell_type": "code",
      "source": [
        "df.value_counts()"
      ],
      "metadata": {
        "id": "vynW3akx8VjB"
      },
      "execution_count": null,
      "outputs": []
    },
    {
      "cell_type": "code",
      "source": [
        "s = pd.Series(['education','python','jupyter',np.nan])\n"
      ],
      "metadata": {
        "id": "4kRoY9f78cKO"
      },
      "execution_count": null,
      "outputs": []
    },
    {
      "cell_type": "code",
      "source": [
        "s.str.upper()"
      ],
      "metadata": {
        "id": "uIpjhVC688ms"
      },
      "execution_count": null,
      "outputs": []
    },
    {
      "cell_type": "code",
      "source": [
        "s.str.lower()"
      ],
      "metadata": {
        "id": "YyCB_YOu9AH7"
      },
      "execution_count": null,
      "outputs": []
    },
    {
      "cell_type": "markdown",
      "source": [
        "11-03-2022"
      ],
      "metadata": {
        "id": "a-RhZrZlZJux"
      }
    },
    {
      "cell_type": "code",
      "source": [
        "import pandas as pd\n",
        "df=pd.read_csv('m.csv')\n",
        "print(df)"
      ],
      "metadata": {
        "id": "8uuETroEYTdf"
      },
      "execution_count": null,
      "outputs": []
    },
    {
      "cell_type": "code",
      "source": [
        "df.iloc[4,2]"
      ],
      "metadata": {
        "id": "iq7WLc8TZsU4"
      },
      "execution_count": null,
      "outputs": []
    },
    {
      "cell_type": "code",
      "source": [
        "df['total']=df['HP']+df['Attack']\n",
        "print(df['total'])\n"
      ],
      "metadata": {
        "id": "cuyVRZezZ2em"
      },
      "execution_count": null,
      "outputs": []
    },
    {
      "cell_type": "code",
      "source": [
        "df.drop(columns=['total'])\n",
        "print(df)"
      ],
      "metadata": {
        "id": "-uJy70ESZ5dv"
      },
      "execution_count": null,
      "outputs": []
    },
    {
      "cell_type": "code",
      "source": [
        "data=df.sort_values('Name',ascending=True)\n",
        "print(data)"
      ],
      "metadata": {
        "id": "XDNC6g-KZ967"
      },
      "execution_count": null,
      "outputs": []
    },
    {
      "cell_type": "code",
      "source": [
        "data.to_excel('filter.xlsx')\n",
        "df1=pd.read_excel('filter.xlsx')\n",
        "print(df)"
      ],
      "metadata": {
        "id": "y5GTLaL9aIWu"
      },
      "execution_count": null,
      "outputs": []
    },
    {
      "cell_type": "code",
      "source": [
        "new_df=df.loc[(df['Type 1']=='Grass') & (df['Type 2']=='Ice') & (df['HP']>70)]\n",
        "print(new_df)"
      ],
      "metadata": {
        "id": "4hBxNSDoaSHe"
      },
      "execution_count": null,
      "outputs": []
    },
    {
      "cell_type": "code",
      "source": [
        "#to Do\n",
        "#problem"
      ],
      "metadata": {
        "id": "Dgb1fJd2aeSt"
      },
      "execution_count": null,
      "outputs": []
    },
    {
      "cell_type": "code",
      "source": [
        "import numpy as np\n",
        "a=np.empty((2,2))\n",
        "a"
      ],
      "metadata": {
        "id": "HC3ugdt1akWQ"
      },
      "execution_count": null,
      "outputs": []
    },
    {
      "cell_type": "code",
      "source": [
        "b=np.zeros((2,2))\n",
        "b"
      ],
      "metadata": {
        "id": "8T6R9PZTaolt"
      },
      "execution_count": null,
      "outputs": []
    },
    {
      "cell_type": "code",
      "source": [
        "c=np.arange(1,10)\n",
        "print(c)\n",
        "type(c)"
      ],
      "metadata": {
        "id": "XNKlkW6marc3"
      },
      "execution_count": null,
      "outputs": []
    },
    {
      "cell_type": "code",
      "source": [
        "np.linspace(1,5)"
      ],
      "metadata": {
        "id": "v2ncbWw2axSa"
      },
      "execution_count": null,
      "outputs": []
    },
    {
      "cell_type": "code",
      "source": [
        "np.logspace(1,10)"
      ],
      "metadata": {
        "id": "FpQ79Tfoa1Yg"
      },
      "execution_count": null,
      "outputs": []
    },
    {
      "cell_type": "code",
      "source": [
        "np.random.rand(2,2,2)"
      ],
      "metadata": {
        "id": "qsBNwZYDa3bp"
      },
      "execution_count": null,
      "outputs": []
    },
    {
      "cell_type": "code",
      "source": [
        "d=np.random.randint(0,10,size=(5,5))\n",
        "d"
      ],
      "metadata": {
        "id": "e7NfhzhIa5WK"
      },
      "execution_count": null,
      "outputs": []
    },
    {
      "cell_type": "markdown",
      "source": [
        "**ACCESS**"
      ],
      "metadata": {
        "id": "tFUFoj6EbJUC"
      }
    },
    {
      "cell_type": "code",
      "source": [
        "d[4:4] #columns:rows"
      ],
      "metadata": {
        "id": "Xg1CLo7KbMpj"
      },
      "execution_count": null,
      "outputs": []
    },
    {
      "cell_type": "code",
      "source": [
        "\"\"\"\n",
        " to do task \n",
        "[6, 8]\n",
        "[7, 8]\n",
        "\"\"\"\n",
        "d[2:4,3:5]"
      ],
      "metadata": {
        "id": "WqoJJShtbSoV"
      },
      "execution_count": null,
      "outputs": []
    },
    {
      "cell_type": "code",
      "source": [
        "a"
      ],
      "metadata": {
        "id": "NPujJZxibWE-"
      },
      "execution_count": null,
      "outputs": []
    },
    {
      "cell_type": "code",
      "source": [
        "b"
      ],
      "metadata": {
        "id": "YPLQYYzzbZ4S"
      },
      "execution_count": null,
      "outputs": []
    },
    {
      "cell_type": "code",
      "source": [
        "np.vstack((a,b))"
      ],
      "metadata": {
        "id": "HXTvOdw-beNV"
      },
      "execution_count": null,
      "outputs": []
    },
    {
      "cell_type": "code",
      "source": [
        "d"
      ],
      "metadata": {
        "id": "z8IHInQMbhWD"
      },
      "execution_count": null,
      "outputs": []
    },
    {
      "cell_type": "code",
      "source": [
        "d1,d2=np.vsplit(d,[1])"
      ],
      "metadata": {
        "id": "C7dA1Mnabksd"
      },
      "execution_count": null,
      "outputs": []
    },
    {
      "cell_type": "code",
      "source": [
        "d1"
      ],
      "metadata": {
        "id": "Rd4G7Jr_brLN"
      },
      "execution_count": null,
      "outputs": []
    },
    {
      "cell_type": "code",
      "source": [
        "d2"
      ],
      "metadata": {
        "id": "PwJ3mESkbuqk"
      },
      "execution_count": null,
      "outputs": []
    },
    {
      "cell_type": "code",
      "source": [
        "import matplotlib.pyplot as plt"
      ],
      "metadata": {
        "id": "putSzf-4b1FJ"
      },
      "execution_count": null,
      "outputs": []
    },
    {
      "cell_type": "code",
      "source": [
        "years = [1950,1955,1960,1965,1970,1975,1980,1985,1990,1995,2000,2005,2010,2015]\n",
        "pops = [1.2,3.4,2.3,3.2,3.5,2.1,2.1,2.4,1.0,1.3,1.5,1.7,2.3,1.9]\n",
        "plt.plot(years,pops, color = 'red')\n",
        "plt.ylabel(\"population in billions\")\n",
        "plt.xlabel('Population Growth by year')\n",
        "plt.title('Population Growth')\n",
        "plt.savefig('a.png')\n"
      ],
      "metadata": {
        "id": "px9VV3-7b4U3"
      },
      "execution_count": null,
      "outputs": []
    },
    {
      "cell_type": "code",
      "source": [
        "x = [1,6,3]\n",
        "y = [5,9,4]\n",
        "\n",
        "x2 = [1,2,3]\n",
        "y2 = [10,14,12]\n",
        "\n",
        "plt.plot(x,y,label = 'First line')\n",
        "plt.plot(x2,y2, label = 'Second Line')\n",
        "plt.xlabel('PLot Number')\n",
        "plt.ylabel('Important var')\n",
        "plt.title('Interesting Graph!')\n",
        "plt.legend()"
      ],
      "metadata": {
        "id": "tmXyIuI3b9_h"
      },
      "execution_count": null,
      "outputs": []
    },
    {
      "cell_type": "code",
      "source": [
        "#replacing the line graph with a dot graph\n",
        "years = [1950,1955,1960,1965,1970,1975,1980,1985,1990,1995,2000,2005,2010,2015]\n",
        "pops = [1.2,3.4,2.3,3.2,3.5,2.1,2.1,2.4,1.0,1.3,1.5,1.7,2.3,1.9]\n",
        "death =[1.1,3.2,1.0,2.1,1.4,1.2,1.7,2.1,2.5,2.3,2.4,1.7,1.9,1.5]\n",
        "plt.plot(years,pops,'.',color = 'orange',label = 'Birth by year')\n",
        "plt.plot(years,death,color = 'blue',label = 'Death by year')\n",
        "plt.ylabel(\"Population in billions\")\n",
        "plt.xlabel('Population stat by year')\n",
        "plt.title('Population Growth')\n",
        "plt.legend()"
      ],
      "metadata": {
        "id": "Oj5iM-_zcWjW"
      },
      "execution_count": null,
      "outputs": []
    },
    {
      "cell_type": "code",
      "source": [
        "#plotting with grid and marker\n",
        "years = [1950,1955,1960,1965,1970,1975,1980,1985,1990,1995,2000,2005,2010,2015]\n",
        "pops = [1.2,3.4,2.3,3.2,3.5,2.1,2.1,2.4,1.0,1.3,1.5,1.7,2.3,1.9]\n",
        "death =[1.1,3.2,1.0,2.1,1.4,1.2,1.7,2.1,2.5,2.3,2.4,1.7,1.9,1.5]\n",
        "lines = plt.plot(years,pops,years,death)\n",
        "plt.grid()\n",
        "plt.setp(lines,color = 'green',marker = '*')"
      ],
      "metadata": {
        "id": "END5sVVqcbcr"
      },
      "execution_count": null,
      "outputs": []
    },
    {
      "cell_type": "code",
      "source": [
        "#Pie Chart\n",
        "labels = ['Python','C','C#','PHP','Java','Ruby']\n",
        "sizes = [33,52,12,17,42,48]\n",
        "plt.pie(sizes, labels = labels,autopct = '%1.1f%%')\n",
        "plt.axis('equal')"
      ],
      "metadata": {
        "id": "WDNbxJjUceZw"
      },
      "execution_count": null,
      "outputs": []
    },
    {
      "cell_type": "code",
      "source": [
        "# to-do task\n",
        "#create a pie chart of total_ir and labels should be the names\n",
        "#for total_ir which is a sum of jan_ir feb_ir and march_ir and total_ir will be the value \n",
        "#plot pie chart using total_ir column and label as names column\n",
        "\n",
        "import pandas as pd\n",
        "raw_data = {'names':['Vicky','Gopal','Avinash','Abi','Anu'],\n",
        "            'jan_ir':[120,122,124,126,128],\n",
        "            'feb_ir':[20,21,23,25,27],\n",
        "            'March_ir':[3,5,7,6,9]}\n",
        "df = pd.DataFrame(raw_data,columns = ['names','jan_ir','feb_ir','March_ir'])\n",
        "df"
      ],
      "metadata": {
        "id": "9sNTtpSpcljb"
      },
      "execution_count": null,
      "outputs": []
    },
    {
      "cell_type": "code",
      "source": [
        "df['total_ir']=df['jan_ir']+df['feb_ir']+df['March_ir']\n",
        "print(df)\n",
        "total_ir = df['total_ir'].values\n",
        "names=df['names'].values\n",
        "plt.pie(total_ir, labels =names ,autopct = '%1.1f%%')\n",
        "plt.axis('equal')"
      ],
      "metadata": {
        "id": "dvlFqeOnc8I9"
      },
      "execution_count": null,
      "outputs": []
    },
    {
      "cell_type": "code",
      "source": [
        "#bar plot with bar width, alpha and labels\n",
        "#alpha-transperency of bars\n",
        "#ticks are markers\n",
        "import numpy as np\n",
        "import pandas as pd\n",
        "import matplotlib.pyplot as plt\n",
        "korea_scores = (511,523,539)\n",
        "canada_scores = (526,553,513)\n",
        "china_scores = (441,525,543)\n",
        "france_scores = (450,537,577)\n",
        "index = np.arange(3)\n",
        "bar_width = 0.2\n",
        "k1 = plt.bar(index,korea_scores,bar_width,alpha = 0.9,label='Korea')\n",
        "k2 = plt.bar(index+bar_width,canada_scores,bar_width,alpha = 0.9,label='Canada')\n",
        "k3 = plt.bar(index+bar_width*2,china_scores,bar_width,alpha = 0.9,label='China')\n",
        "k4 = plt.bar(index+bar_width*3,france_scores,bar_width,alpha = 0.9,label='France')\n",
        "plt.xticks(index+.3,('Maths','Reading','Science'))\n",
        "plt.ylabel('Mean scores in PISA 2021')\n",
        "plt.xlabel('Subjects')\n",
        "plt.title('Test scores by Country')\n",
        "plt.grid(True)\n",
        "plt.legend()"
      ],
      "metadata": {
        "id": "DJJ7zq_wzEQz",
        "colab": {
          "base_uri": "https://localhost:8080/",
          "height": 342
        },
        "outputId": "06534307-6471-4da6-ae75-2a4b798efedd"
      },
      "execution_count": null,
      "outputs": [
        {
          "output_type": "execute_result",
          "data": {
            "text/plain": [
              "<matplotlib.legend.Legend at 0x7f7afc3e2f50>"
            ]
          },
          "metadata": {},
          "execution_count": 5
        },
        {
          "output_type": "display_data",
          "data": {
            "text/plain": [
              "<Figure size 432x288 with 1 Axes>"
            ],
            "image/png": "[encoded data removed]"
          },
          "metadata": {}
        }
      ]
    },
    {
      "cell_type": "code",
      "source": [
        "plt.bar([1,3,5,7,9],[6,3,1,9,2], label = 'one')\n",
        "plt.bar([2,4,26,8,10],[8,6,2,5,6],label = 'two',color = 'green')\n",
        "plt.ylabel('bar width')\n",
        "plt.xlabel('bar number')\n",
        "plt.title('Epic graph')\n",
        "plt.legend()"
      ],
      "metadata": {
        "id": "eCx69Kni1H6K",
        "colab": {
          "base_uri": "https://localhost:8080/",
          "height": 342
        },
        "outputId": "f4ae522a-d463-4b6c-9a84-2598e82af786"
      },
      "execution_count": null,
      "outputs": [
        {
          "output_type": "execute_result",
          "data": {
            "text/plain": [
              "<matplotlib.legend.Legend at 0x7f7afbe76c90>"
            ]
          },
          "metadata": {},
          "execution_count": 6
        },
        {
          "output_type": "display_data",
          "data": {
            "text/plain": [
              "<Figure size 432x288 with 1 Axes>"
            ],
            "image/png": "[encoded data removed]"
          },
          "metadata": {}
        }
      ]
    },
    {
      "cell_type": "code",
      "source": [
        "#histogram with bins\n",
        "#bins- divides up the data into required category\n",
        "popu_ages = [11,21,32,45,105,120,132,344,234,344,111,45,66,76,45,288,77,377,570,53]\n",
        "bins = [10,30,60,90,130,160,190,230,260,290]\n",
        "plt.hist(popu_ages,bins,color = 'blue')"
      ],
      "metadata": {
        "id": "XkOjm_iX1NF_"
      },
      "execution_count": null,
      "outputs": []
    },
    {
      "cell_type": "code",
      "source": [
        "#scatter plot - each value in dataset is represented by a dot\n",
        "m = [1,3,5,7,9,11,15]\n",
        "n = [2,4,1,8,3,12,1]\n",
        "plt.scatter(m,n,label = 'Satter plot',color = 'b')\n",
        "plt.xlabel('m')\n",
        "plt.ylabel('n')\n",
        "plt.title('Scatter')\n",
        "plt.legend()"
      ],
      "metadata": {
        "id": "_phQl7KH1UJY"
      },
      "execution_count": null,
      "outputs": []
    },
    {
      "cell_type": "code",
      "source": [
        "#stackplot - generated by plotting different datasets vertically on top of one another rather than overlapping with one another\n",
        "days = [1,2,3,4,5]\n",
        "sleeping = [7,8,9,10,2]\n",
        "eating = [2,4,6,8,2]\n",
        "working = [7,3,6,8,4]\n",
        "playing = [4,3,5,4,1]\n",
        "plt.stackplot(days,sleeping,eating,working,playing,colors = ['r','k','m','c'])"
      ],
      "metadata": {
        "id": "ctUfcB_h1YqW",
        "colab": {
          "base_uri": "https://localhost:8080/",
          "height": 200
        },
        "outputId": "bd6ef823-7189-45df-8c9c-fe00fab5eba5"
      },
      "execution_count": null,
      "outputs": [
        {
          "output_type": "error",
          "ename": "NameError",
          "evalue": "ignored",
          "traceback": [
            "\u001b[0;31m---------------------------------------------------------------------------\u001b[0m",
            "\u001b[0;31mNameError\u001b[0m                                 Traceback (most recent call last)",
            "\u001b[0;32m<ipython-input-2-51f7cb7a0f88>\u001b[0m in \u001b[0;36m<module>\u001b[0;34m()\u001b[0m\n\u001b[1;32m      5\u001b[0m \u001b[0mworking\u001b[0m \u001b[0;34m=\u001b[0m \u001b[0;34m[\u001b[0m\u001b[0;36m7\u001b[0m\u001b[0;34m,\u001b[0m\u001b[0;36m3\u001b[0m\u001b[0;34m,\u001b[0m\u001b[0;36m6\u001b[0m\u001b[0;34m,\u001b[0m\u001b[0;36m8\u001b[0m\u001b[0;34m,\u001b[0m\u001b[0;36m4\u001b[0m\u001b[0;34m]\u001b[0m\u001b[0;34m\u001b[0m\u001b[0;34m\u001b[0m\u001b[0m\n\u001b[1;32m      6\u001b[0m \u001b[0mplaying\u001b[0m \u001b[0;34m=\u001b[0m \u001b[0;34m[\u001b[0m\u001b[0;36m4\u001b[0m\u001b[0;34m,\u001b[0m\u001b[0;36m3\u001b[0m\u001b[0;34m,\u001b[0m\u001b[0;36m5\u001b[0m\u001b[0;34m,\u001b[0m\u001b[0;36m4\u001b[0m\u001b[0;34m,\u001b[0m\u001b[0;36m1\u001b[0m\u001b[0;34m]\u001b[0m\u001b[0;34m\u001b[0m\u001b[0;34m\u001b[0m\u001b[0m\n\u001b[0;32m----> 7\u001b[0;31m \u001b[0mplt\u001b[0m\u001b[0;34m.\u001b[0m\u001b[0mstackplot\u001b[0m\u001b[0;34m(\u001b[0m\u001b[0mdays\u001b[0m\u001b[0;34m,\u001b[0m\u001b[0msleeping\u001b[0m\u001b[0;34m,\u001b[0m\u001b[0meating\u001b[0m\u001b[0;34m,\u001b[0m\u001b[0mworking\u001b[0m\u001b[0;34m,\u001b[0m\u001b[0mplaying\u001b[0m\u001b[0;34m,\u001b[0m\u001b[0mcolors\u001b[0m \u001b[0;34m=\u001b[0m \u001b[0;34m[\u001b[0m\u001b[0;34m'r'\u001b[0m\u001b[0;34m,\u001b[0m\u001b[0;34m'k'\u001b[0m\u001b[0;34m,\u001b[0m\u001b[0;34m'm'\u001b[0m\u001b[0;34m,\u001b[0m\u001b[0;34m'c'\u001b[0m\u001b[0;34m]\u001b[0m\u001b[0;34m)\u001b[0m\u001b[0;34m\u001b[0m\u001b[0;34m\u001b[0m\u001b[0m\n\u001b[0m",
            "\u001b[0;31mNameError\u001b[0m: name 'plt' is not defined"
          ]
        }
      ]
    },
    {
      "cell_type": "code",
      "source": [
        "#line 3D plot\n",
        "#axes3d is aclass required for enabling 3D projections\n",
        "#style for getting various styples\n",
        "from mpl_toolkits.mplot3d import axes3d\n",
        "import matplotlib.pyplot as plt\n",
        "from matplotlib import style"
      ],
      "metadata": {
        "id": "WSfUEmLU1htB"
      },
      "execution_count": null,
      "outputs": []
    },
    {
      "cell_type": "code",
      "source": [
        "#fivethirtyeight for statstical visualization of data\n",
        "style.use('fivethirtyeight')\n",
        "\n",
        "fig = plt.figure()\n",
        "ax = fig.add_subplot(111,projection = '3d')\n",
        "\n",
        "x = [1,2,3,4,5,6,7,8,9,10]\n",
        "y = [1,4,2,5,8,6,3,5,7,2]\n",
        "z = [3,6,9,4,2,5,8,9,2,1]\n",
        "\n",
        "ax.plot(x,y,z,c = 'b', marker = 'o')\n",
        "ax.set_xlabel('x-axis')\n",
        "ax.set_ylabel('y-axis')\n",
        "ax.set_zlabel('z-axis')"
      ],
      "metadata": {
        "id": "NHya2xya1nNY",
        "colab": {
          "base_uri": "https://localhost:8080/",
          "height": 281
        },
        "outputId": "0dfa8eb2-4a84-43de-948a-dc9a07cada04"
      },
      "execution_count": null,
      "outputs": [
        {
          "output_type": "execute_result",
          "data": {
            "text/plain": [
              "Text(0.5, 0, 'z-axis')"
            ]
          },
          "metadata": {},
          "execution_count": 4
        },
        {
          "output_type": "display_data",
          "data": {
            "text/plain": [
              "<Figure size 432x288 with 1 Axes>"
            ],
            "image/png": "[encoded data removed]"
          },
          "metadata": {}
        }
      ]
    },
    {
      "cell_type": "code",
      "source": [
        "#ggplot builds visualization incrementally\n",
        "style.use('ggplot')\n",
        "\n",
        "fig = plt.figure()\n",
        "ax = fig.add_subplot(111,projection = '3d')\n",
        "\n",
        "x = [1,2,3,4,5,6,7,8,9,10]\n",
        "y = [1,4,2,5,8,6,3,5,7,2]\n",
        "z = [3,6,9,4,2,5,8,9,2,1]\n",
        "\n",
        "ax.plot(x,y,z,c = 'g', marker = 'o')\n",
        "ax.set_xlabel('x-axis')\n",
        "ax.set_ylabel('y-axis')\n",
        "ax.set_zlabel('z-axis')"
      ],
      "metadata": {
        "id": "uH3wVKj41sOb"
      },
      "execution_count": null,
      "outputs": []
    },
    {
      "cell_type": "code",
      "source": [
        "style.use('fivethirtyeight')\n",
        "fig = plt.figure()\n",
        "ax1 = fig.add_subplot(111,projection = '3d')\n",
        "\n",
        "x = [1,2,3,4,5,6,7,8,9,10]\n",
        "y = [1,4,2,5,8,6,3,5,7,2]\n",
        "z = np.zeros(10)\n",
        "\n",
        "dx = np.ones(10)\n",
        "dy = np.ones(10)\n",
        "dz = [1,2,3,4,5,6,7,8,9,10]\n",
        "\n",
        "ax1.bar3d(x,y,z,dx,dy,dz)\n",
        "\n",
        "ax1.set_xlabel('x-axis')\n",
        "ax1.set_ylabel('y-axis')\n",
        "ax1.set_zlabel('z-axis')"
      ],
      "metadata": {
        "id": "gia8OlkE1wZ_"
      },
      "execution_count": null,
      "outputs": []
    },
    {
      "cell_type": "code",
      "source": [
        "#rstride and cstride gives a little bit stride\n",
        "#by default it is 3\n",
        "from mpl_toolkits.mplot3d import axes3d\n",
        "import matplotlib.pyplot as plt\n",
        "from matplotlib import style\n",
        "\n",
        "style.use('fivethirtyeight')\n",
        "\n",
        "fig = plt.figure()\n",
        "ax1 = fig.add_subplot(111,projection = '3d')\n",
        "\n",
        "x,y,z = axes3d.get_test_data()\n",
        "ax1.plot_wireframe(x,y,z,rstride = 4,cstride = 4)\n",
        "\n",
        "ax1.set_xlabel('x-axis')\n",
        "ax1.set_ylabel('y-axis')\n",
        "ax1.set_zlabel('z-axis')\n"
      ],
      "metadata": {
        "id": "rGtCoVm011Q4"
      },
      "execution_count": null,
      "outputs": []
    },
    {
      "cell_type": "code",
      "source": [
        "import numpy as np\n",
        "import matplotlib.pyplot as plt\n",
        "import pandas as pd\n",
        "df=pd.read_csv('telecom_churn - telecom_churn.csv')\n",
        "df.head()"
      ],
      "metadata": {
        "id": "7bSuR2cTYNPt"
      },
      "execution_count": null,
      "outputs": []
    }
  ],
  "metadata": {
    "colab": {
      "collapsed_sections": [],
      "name": "Anagha.ipynb",
      "provenance": []
    },
    "kernelspec": {
      "display_name": "Python 3",
      "name": "python3"
    },
    "language_info": {
      "name": "python"
    }
  },
  "nbformat": 4,
  "nbformat_minor": 0
}